{
 "cells": [
  {
   "cell_type": "code",
   "execution_count": 1,
   "metadata": {},
   "outputs": [],
   "source": [
    "import math"
   ]
  },
  {
   "cell_type": "code",
   "execution_count": 2,
   "metadata": {},
   "outputs": [],
   "source": [
    "def h_fechado(limite_inferior, limite_superior, grau_polinomio):\n",
    "    h = (limite_superior-limite_inferior)/(grau_polinomio)\n",
    "    #print(h)\n",
    "    pontos = []\n",
    "    for i in range(grau_polinomio+1):\n",
    "        pontos.append(limite_inferior + h*i)\n",
    "    return (h, pontos)\n",
    "\n",
    "def h_aberto(limite_inferior, limite_superior, grau_polinomio):\n",
    "    h = (limite_superior-limite_inferior)/(grau_polinomio +2)\n",
    "    pontos = []\n",
    "    for i in range(grau_polinomio+1):\n",
    "        pontos.append(limite_inferior + h*(i+1))\n",
    "    return (h, pontos)"
   ]
  },
  {
   "cell_type": "code",
   "execution_count": 3,
   "metadata": {},
   "outputs": [],
   "source": [
    "def aproximador(funcao, a, b, n_divisoes,grau,fechado): \n",
    "    if(fechado):\n",
    "        if (grau == 1):\n",
    "            pesos = [1,1] \n",
    "            divisor = 2\n",
    "            multiplicador = 1\n",
    "        \n",
    "        if (grau == 2):\n",
    "            pesos = [1,4,1]\n",
    "            divisor = 3\n",
    "            multiplicador = 1\n",
    "        \n",
    "        if (grau == 3):\n",
    "            pesos = [1,3,3,1]\n",
    "            divisor = 8\n",
    "            multiplicador = 3\n",
    "        \n",
    "        if (grau == 4):\n",
    "            pesos = [14, 64, 24, 64, 14]\n",
    "            divisor = 45\n",
    "            multiplicador = 1\n",
    "        calcularPontos = h_fechado\n",
    "    else:\n",
    "        if (grau == 1):\n",
    "            pesos = [1,1]\n",
    "            multiplicador = 3\n",
    "            divisor = 2\n",
    "       \n",
    "        if (grau == 2):\n",
    "            pesos = [2,-1,2]\n",
    "            multiplicador = 4\n",
    "            divisor = 3\n",
    "        \n",
    "        if (grau == 3):\n",
    "            pesos = [11,1,1,11]\n",
    "            multiplicador = 5\n",
    "            divisor = 24\n",
    "        \n",
    "        if (grau == 4):\n",
    "            pesos = [33,-42,78,-42,33]\n",
    "            multiplicador = 1\n",
    "            divisor = 10\n",
    "        calcularPontos = h_aberto\n",
    "\n",
    "    soma_total = 0\n",
    "    quantidade_divisoes = (2**n_divisoes)\n",
    "    Dx = (b - a) / quantidade_divisoes\n",
    "    \n",
    "    for i in range(quantidade_divisoes):\n",
    "        xi = a + i*Dx\n",
    "        xf = xi + Dx\n",
    "        h, pontos = calcularPontos(xi, xf,grau)\n",
    "        \n",
    "        soma_parcial = 0\n",
    "        for j in range(len(pesos)):\n",
    "            soma_parcial += pesos[j] * funcao(pontos[j])\n",
    "            \n",
    "        soma_total += soma_parcial * ((h*multiplicador) / divisor)\n",
    "    return soma_total"
   ]
  },
  {
   "cell_type": "code",
   "execution_count": 4,
   "metadata": {},
   "outputs": [],
   "source": [
    "def boolin(funcao,grau,fechado, limite_Inf=0, limite_Sup=1 ):\n",
    "    erro = 10**(-6)\n",
    "\n",
    "    valor_anterior = aproximador(funcao, limite_Inf, limite_Sup, 0,grau, fechado)\n",
    "    valor_atual = aproximador(funcao, limite_Inf, limite_Sup, 1,grau, fechado)\n",
    "    iteracoes = 1\n",
    "    while( abs(valor_anterior - valor_atual) > erro):\n",
    "        iteracoes+=1\n",
    "        valor_anterior = valor_atual\n",
    "        valor_atual = aproximador(funcao, limite_Inf, limite_Sup, iteracoes, grau,fechado)\n",
    "    \n",
    "    return (iteracoes, valor_atual)\n",
    "   # print(\"qtd particoes 2^{}\\nvalor aproximacao = {}\".format(iteracoes, valor_atual))"
   ]
  },
  {
   "cell_type": "code",
   "execution_count": 5,
   "metadata": {},
   "outputs": [],
   "source": [
    "def funcao(x):\n",
    "    return ( math.sin(2*x) + (4*x*x) + ((3*x)) )**2"
   ]
  },
  {
   "cell_type": "code",
   "execution_count": 6,
   "metadata": {},
   "outputs": [
    {
     "name": "stdout",
     "output_type": "stream",
     "text": [
      "Aproximacao com filosofia fechada\n",
      "Aproximação com polinomio de grau 1= 17.876470541914223\n",
      "Numero de particoes = 2^13\n",
      "\n",
      "Aproximação com polinomio de grau 2= 17.876470368263835\n",
      "Numero de particoes = 2^5\n",
      "\n",
      "Aproximação com polinomio de grau 3= 17.876470353779972\n",
      "Numero de particoes = 2^5\n",
      "\n",
      "Aproximação com polinomio de grau 4= 17.876470347803945\n",
      "Numero de particoes = 2^3\n",
      "\n",
      "\n",
      "Aproximacao com filosofia aberta\n",
      "Aproximação com polinomio de grau 1= 17.876470541914223\n",
      "Numero de particoes = 2^13\n",
      "\n",
      "Aproximação com polinomio de grau 2= 17.876470368263835\n",
      "Numero de particoes = 2^5\n",
      "\n",
      "Aproximação com polinomio de grau 3= 17.876470353779972\n",
      "Numero de particoes = 2^5\n",
      "\n",
      "Aproximação com polinomio de grau 4= 17.876470347803945\n",
      "Numero de particoes = 2^3\n",
      "\n"
     ]
    }
   ],
   "source": [
    "print(\"Aproximacao com filosofia fechada\")\n",
    "for k in range (4):\n",
    "    i=  boolin(funcao, k+1,True,limite_Inf=0, limite_Sup=1)\n",
    "    print(\"Aproximação com polinomio de grau {}= {}\".format(k+1,i[1]))\n",
    "    print(\"Numero de particoes = 2^{}\\n\".format(i[0]))\n",
    "\n",
    "print(\"\")\n",
    "print(\"Aproximacao com filosofia aberta\")\n",
    "for j in range (4):\n",
    "    i =  boolin(funcao, j+1,True,limite_Inf=0, limite_Sup=1)\n",
    "    print(\"Aproximação com polinomio de grau {}= {}\".format(j+1,i[1]))\n",
    "    print(\"Numero de particoes = 2^{}\\n\".format(i[0]))\n",
    "\n",
    "    "
   ]
  }
 ],
 "metadata": {
  "kernelspec": {
   "display_name": "Python 3",
   "language": "python",
   "name": "python3"
  },
  "language_info": {
   "codemirror_mode": {
    "name": "ipython",
    "version": 3
   },
   "file_extension": ".py",
   "mimetype": "text/x-python",
   "name": "python",
   "nbconvert_exporter": "python",
   "pygments_lexer": "ipython3",
   "version": "3.7.5"
  }
 },
 "nbformat": 4,
 "nbformat_minor": 4
}
