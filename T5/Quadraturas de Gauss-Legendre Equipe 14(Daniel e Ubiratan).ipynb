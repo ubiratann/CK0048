{
 "cells": [
  {
   "cell_type": "markdown",
   "metadata": {},
   "source": [
    "# Quadraturas de Gauss-Legendre usando particoes"
   ]
  },
  {
   "cell_type": "code",
   "execution_count": 1,
   "metadata": {},
   "outputs": [],
   "source": [
    "from math import pow,sin"
   ]
  },
  {
   "cell_type": "code",
   "execution_count": 2,
   "metadata": {},
   "outputs": [],
   "source": [
    "def x(xi,xf,a):\n",
    "    return (xi+xf)/2 + ((xf-xi)/2)*a"
   ]
  },
  {
   "cell_type": "code",
   "execution_count": 3,
   "metadata": {},
   "outputs": [],
   "source": [
    "def f(x):\n",
    "    return ( sin(2*x) + (4*x*x) + ((3*x)) )**2"
   ]
  },
  {
   "cell_type": "code",
   "execution_count": 4,
   "metadata": {},
   "outputs": [],
   "source": [
    "def aproximador(f,x,a,b,quantpontos,n_divisoes): \n",
    "\n",
    "    if (quantpontos == 2):\n",
    "        raizes = [-0.577350, 0.577350]\n",
    "        pesos = [1,1]\n",
    "\n",
    "    if (quantpontos == 3):\n",
    "        raizes = [-0.774597, 0, 0.774597]\n",
    "        pesos = [0.555556,  0.888889, 0.555556]\n",
    "\n",
    "    if (quantpontos == 4):\n",
    "        raizes = [0.861136,0.339981,-0.339981,-0.861136]\n",
    "        pesos = [0.347854,0.652145,0.652145,0.347854]\n",
    "    \n",
    "    resultado = 0\n",
    "    quantidade_divisoes = (2**n_divisoes)\n",
    "    Dx = (b - a) / quantidade_divisoes\n",
    "    \n",
    "    resultado_parcial = 0\n",
    "    for i in range(quantidade_divisoes):\n",
    "        xi = a + i*Dx            \n",
    "        xf = xi + Dx\n",
    "\n",
    "        for ak,wk in zip(raizes,pesos):\n",
    "            resultado_parcial += f(x(xi,xf,ak))*wk\n",
    "            #print(resultado_parcial)\n",
    "    resultado = (xf-xi)/2 * resultado_parcial\n",
    "    \n",
    "    return resultado"
   ]
  },
  {
   "cell_type": "code",
   "execution_count": 9,
   "metadata": {},
   "outputs": [],
   "source": [
    "def calcular(funcaof,funcaox,quant_Pontos,limite_Inf=0, limite_Sup=1 ):\n",
    "    erro = 10**(-6)\n",
    "\n",
    "    valor_ant = aproximador(funcaof,funcaox,limite_Inf, limite_Sup,quant_Pontos,0)\n",
    "    valor_at = aproximador(funcaof,funcaox,limite_Inf, limite_Sup,quant_Pontos,1)\n",
    "    iteracoes = 1\n",
    "    while(abs(valor_ant-valor_at)>erro):\n",
    "        iteracoes +=1\n",
    "        valor_ant = valor_at\n",
    "        valor_at = aproximador(funcaof,funcaox,limite_Inf, limite_Sup,quant_Pontos,iteracoes)\n",
    "        \n",
    "    return (iteracoes, valor_at)\n",
    "\n",
    "\n",
    " "
   ]
  },
  {
   "cell_type": "code",
   "execution_count": 10,
   "metadata": {},
   "outputs": [
    {
     "name": "stdout",
     "output_type": "stream",
     "text": [
      "\n",
      "Aproximação com 2 pontos = 17.876470318706705\n",
      "Numero de particoes = 2^5\n",
      "\n",
      "\n",
      "Aproximação com 3 pontos = 17.876479395858052\n",
      "Numero de particoes = 2^3\n",
      "\n",
      "\n",
      "Aproximação com 4 pontos = 17.87645230324534\n",
      "Numero de particoes = 2^3\n",
      "\n"
     ]
    }
   ],
   "source": [
    "for k in range(2,5):\n",
    "    i =  calcular(f,x,k,0,1)\n",
    "    print()\n",
    "    print(\"Aproximação com {} pontos = {}\".format(k,i[1]))\n",
    "    print(\"Numero de particoes = 2^{}\\n\".format(i[0]))\n",
    "    "
   ]
  },
  {
   "cell_type": "code",
   "execution_count": null,
   "metadata": {},
   "outputs": [],
   "source": []
  }
 ],
 "metadata": {
  "kernelspec": {
   "display_name": "Python 3",
   "language": "python",
   "name": "python3"
  },
  "language_info": {
   "codemirror_mode": {
    "name": "ipython",
    "version": 3
   },
   "file_extension": ".py",
   "mimetype": "text/x-python",
   "name": "python",
   "nbconvert_exporter": "python",
   "pygments_lexer": "ipython3",
   "version": "3.7.5"
  }
 },
 "nbformat": 4,
 "nbformat_minor": 2
}
