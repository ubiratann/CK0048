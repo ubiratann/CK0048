{
 "cells": [
  {
   "cell_type": "code",
   "execution_count": 1,
   "metadata": {
    "collapsed": true
   },
   "outputs": [
    {
     "name": "stdout",
     "output_type": "stream",
     "text": [
      " autovalor => 1.3542486889983678\n",
      " autovetor => [ 0.13550299 -0.62953847  0.76506225]\n",
      " autovalor => -0.8509230914609324\n",
      " autovetor => [0.06259585 0.99435785 0.08564004]\n",
      " autovalor => 4.014882942408441\n",
      " autovetor => [-0.00909562  0.03206584 -0.13178428 -0.18745222  0.9728225 ]\n",
      " autovalor => 1.3542486889983678\n",
      " autovetor => [ 0.13550299 -0.62953847  0.76506225]\n",
      " autovalor => -0.8509230914609324\n",
      " autovetor => [0.06259585 0.99435785 0.08564004]\n",
      " autovalor => 4.014882942408441\n",
      " autovetor => [-0.00909562  0.03206584 -0.13178428 -0.18745222  0.9728225 ]\n"
     ]
    }
   ],
   "source": [
    "%run \"..\\T12\\Metodos da Potencia Inversa - Equipe 14(Daniel e Ubiratan).ipynb\""
   ]
  },
  {
   "cell_type": "code",
   "execution_count": 2,
   "metadata": {},
   "outputs": [],
   "source": [
    "import numpy as np\n",
    "import math"
   ]
  },
  {
   "cell_type": "code",
   "execution_count": 3,
   "metadata": {},
   "outputs": [],
   "source": [
    "def comprimento(w):\n",
    "    w = np.array(w)\n",
    "    norma = sum( [ w.dot(w) ] )\n",
    "    norma = math.sqrt(norma)\n",
    "    return norma\n",
    "    \n",
    "def multiplica(m1, m2):\n",
    "    n = len(m1)\n",
    "    if n != len(m2):\n",
    "        print(\"erro dimensão\")\n",
    "        return None\n",
    "    result = identidade(n)\n",
    "    for i in range(n):\n",
    "        for k in range(n):\n",
    "            somatorio = 0\n",
    "            for j in range(n):\n",
    "                somatorio += m1[i][j] * m2[j][k]\n",
    "            result[i][k] = somatorio\n",
    "    return result\n",
    "\n",
    "def print_matriz(matriz, erro=10**-9):\n",
    "    n = len(matriz)\n",
    "    for i in range(n):\n",
    "        for j in range(n):\n",
    "            numero = float(matriz[i][j])\n",
    "            if numero<=erro:\n",
    "                numero = float(0)\n",
    "            print(\"{:.3}\".format(numero), end=\"\\t\")\n",
    "        print()\n",
    "\n",
    "def identidade(n):\n",
    "    identidade = [[0 for j in range(n)] for i in range(n)]\n",
    "    for i in range(n):\n",
    "        identidade[i][i] = 1\n",
    "    return identidade\n",
    "\n",
    "def Transposta(matriz):\n",
    "    n = len(matriz)\n",
    "    return [ [ matriz[i][j] for i in range(n)] for j in range(n)]\n",
    "\n",
    "A = [\n",
    "    [40, 8, 4, 2, 1],\n",
    "    [8, 30, 12, 6, 2],\n",
    "    [4, 12, 20, 1, 2],\n",
    "    [2, 6, 1, 25, 4],\n",
    "    [1, 2, 2, 4, 5]]\n",
    "teste = [\n",
    "    [1, 2, 3],\n",
    "    [4, 5, 6],\n",
    "    [7, 8, 9]]"
   ]
  },
  {
   "cell_type": "code",
   "execution_count": 4,
   "metadata": {},
   "outputs": [],
   "source": [
    "def matrizHouseholderBaseadaNaCol_iDaMatrizDoPassoAnterior(matriz, i):\n",
    "    n = len(matriz)\n",
    "    I = identidade\n",
    "    w = [aij if index>i else 0 for index,aij in enumerate(matriz[:][i]) ]\n",
    "    comprimento_w = comprimento(w)\n",
    "    \n",
    "    w_ = [0 if index!=i+1 else comprimento_w for index in range(n)]\n",
    "    \n",
    "    N = np.array( w ) - np.array( w_ )\n",
    "    N = N.tolist()\n",
    "    \n",
    "    comprimento_N = comprimento(N)\n",
    "    \n",
    "    n_matriz_espelo = np.array( N ) / np.array( comprimento_N )\n",
    "    \n",
    "    transposta = np.array( [ [i] for i in n_matriz_espelo[:] ] )\n",
    "    h = np.array(identidade(n)) - (2* ( n_matriz_espelo * transposta ))\n",
    "    \n",
    "    return h.tolist()"
   ]
  },
  {
   "cell_type": "code",
   "execution_count": 5,
   "metadata": {},
   "outputs": [],
   "source": [
    "def metodoDeHouseholder(matriz_a):\n",
    "    n = len(matriz_a)\n",
    "    H = identidade(n)\n",
    "    velho_a = matriz_a\n",
    "    for i in range(0,n-2):\n",
    "        h = matrizHouseholderBaseadaNaCol_iDaMatrizDoPassoAnterior(velho_a, i)\n",
    "        \n",
    "        h_transposto = Transposta(h)\n",
    "        novo_a = multiplica( h_transposto, velho_a )\n",
    "        novo_a = multiplica( novo_a, h )\n",
    "        \n",
    "        velho_a = novo_a\n",
    "        H = multiplica( H, h )\n",
    "                \n",
    "    return (velho_a, H)"
   ]
  },
  {
   "cell_type": "code",
   "execution_count": 6,
   "metadata": {
    "scrolled": true
   },
   "outputs": [
    {
     "name": "stdout",
     "output_type": "stream",
     "text": [
      "MATRIZ Ã\n",
      "40.0\t9.22\t0.0\t0.0\t0.0\t\n",
      "9.22\t39.8\t4.07\t0.0\t0.0\t\n",
      "0.0\t4.07\t15.1\t6.29\t0.0\t\n",
      "0.0\t0.0\t6.29\t17.6\t5.87\t\n",
      "0.0\t0.0\t0.0\t5.87\t7.52\t\n",
      "\n",
      "MATRIZ H\n",
      "1.0\t0.0\t0.0\t0.0\t0.0\t\n",
      "0.0\t0.868\t0.0\t0.0886\t0.209\t\n",
      "0.0\t0.434\t0.552\t0.0\t0.0\t\n",
      "0.0\t0.217\t0.703\t0.587\t0.338\t\n",
      "0.0\t0.108\t0.0\t0.532\t0.0\t\n",
      "\n",
      "autovalor => 4.014882942404805\n",
      "autovetor => [ 0.00909563 -0.03550154  0.29191854 -0.48994505  0.82060607]\n"
     ]
    }
   ],
   "source": [
    "A_, H = metodoDeHouseholder(A)\n",
    "\n",
    "print(\"MATRIZ Ã\")\n",
    "print_matriz(A_, 10**-4)\n",
    "\n",
    "print()\n",
    "\n",
    "print(\"MATRIZ H\")\n",
    "print_matriz(H, 10**-4)\n",
    "\n",
    "print()\n",
    "\n",
    "lamb, x = potencia_inversa(A_)\n",
    "print(f'autovalor => {lamb}')\n",
    "print(f'autovetor => {x}')"
   ]
  },
  {
   "cell_type": "code",
   "execution_count": null,
   "metadata": {},
   "outputs": [],
   "source": []
  }
 ],
 "metadata": {
  "kernelspec": {
   "display_name": "Python 3",
   "language": "python",
   "name": "python3"
  },
  "language_info": {
   "codemirror_mode": {
    "name": "ipython",
    "version": 3
   },
   "file_extension": ".py",
   "mimetype": "text/x-python",
   "name": "python",
   "nbconvert_exporter": "python",
   "pygments_lexer": "ipython3",
   "version": "3.7.7"
  }
 },
 "nbformat": 4,
 "nbformat_minor": 4
}
