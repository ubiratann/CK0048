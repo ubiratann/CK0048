{
 "cells": [
  {
   "cell_type": "code",
   "execution_count": 22,
   "metadata": {},
   "outputs": [
    {
     "name": "stdout",
     "output_type": "stream",
     "text": [
      "autovalor => 6.6457513110424165\n",
      "autovetor => [0.80517185 0.51994284 0.28523279]\n",
      "autovalor => 49.3831459413551\n",
      "autovetor => [0.69805185 0.57987878 0.34487082 0.22686645 0.07784574]\n",
      " autovalor => 1.3542486889983678\n",
      " autovetor => [ 0.13550299 -0.62953847  0.76506225]\n",
      " autovalor => -0.8509230914609324\n",
      " autovetor => [0.06259585 0.99435785 0.08564004]\n",
      " autovalor => 4.014882942408441\n",
      " autovetor => [-0.00909562  0.03206584 -0.13178428 -0.18745222  0.9728225 ]\n",
      " autovalor => 1.3542486889983678\n",
      " autovetor => [ 0.13550299 -0.62953847  0.76506225]\n",
      " autovalor => -0.8509230914609324\n",
      " autovetor => [0.06259585 0.99435785 0.08564004]\n",
      " autovalor => 4.014882942408441\n",
      " autovetor => [-0.00909562  0.03206584 -0.13178428 -0.18745222  0.9728225 ]\n",
      "autovalor => 6.6457513110424165\n",
      "autovetor => [0.80517185 0.51994284 0.28523279]\n",
      "autovalor => 49.3831459413551\n",
      "autovetor => [0.69805185 0.57987878 0.34487082 0.22686645 0.07784574]\n"
     ]
    }
   ],
   "source": [
    "%run \"..\\T12\\Metodos da Potencia Inversa - Equipe 14(Daniel e Ubiratan).ipynb\"\n",
    "%run \"..\\T11\\Metodo da Potencia Regular - Equipe 14(Daniel e Ubiratan).ipynb\""
   ]
  },
  {
   "cell_type": "code",
   "execution_count": 23,
   "metadata": {},
   "outputs": [],
   "source": [
    "import numpy as np\n",
    "import math"
   ]
  },
  {
   "cell_type": "code",
   "execution_count": 24,
   "metadata": {},
   "outputs": [],
   "source": [
    "def comprimento(w):\n",
    "    w = np.array(w)\n",
    "    norma = sum( [ w.dot(w) ] )\n",
    "    norma = math.sqrt(norma)\n",
    "    return norma\n",
    "    \n",
    "def multiplica(m1, m2):\n",
    "    n = len(m1)\n",
    "    if n != len(m2):\n",
    "        print(\"erro dimensão\")\n",
    "        return None\n",
    "    result = identidade(n)\n",
    "    for i in range(n):\n",
    "        for k in range(n):\n",
    "            somatorio = 0\n",
    "            for j in range(n):\n",
    "                somatorio += m1[i][j] * m2[j][k]\n",
    "            result[i][k] = somatorio\n",
    "    return result\n",
    "\n",
    "def print_matriz(matriz, erro=10**-9):\n",
    "    n = len(matriz)\n",
    "    for i in range(n):\n",
    "        for j in range(n):\n",
    "            numero = float(matriz[i][j])\n",
    "            if numero<=erro:\n",
    "                numero = float(0)\n",
    "            print(\"{:.3}\".format(numero), end=\"\\t\")\n",
    "        print()\n",
    "\n",
    "def identidade(n):\n",
    "    identidade = [[0 for j in range(n)] for i in range(n)]\n",
    "    for i in range(n):\n",
    "        identidade[i][i] = 1\n",
    "    return identidade\n",
    "\n",
    "def Transposta(matriz):\n",
    "    n = len(matriz)\n",
    "    return [ [ matriz[i][j] for i in range(n)] for j in range(n)]"
   ]
  },
  {
   "cell_type": "code",
   "execution_count": 25,
   "metadata": {},
   "outputs": [],
   "source": [
    "A = [\n",
    "    [40, 8, 4, 2, 1],\n",
    "    [8, 30, 12, 6, 2],\n",
    "    [4, 12, 20, 1, 2],\n",
    "    [2, 6, 1, 25, 4],\n",
    "    [1, 2, 2, 4, 5]]"
   ]
  },
  {
   "cell_type": "code",
   "execution_count": 26,
   "metadata": {},
   "outputs": [],
   "source": [
    "def matrizHouseholderBaseadaNaCol_iDaMatrizDoPassoAnterior(matriz, i):\n",
    "    n = len(matriz)\n",
    "    I = identidade\n",
    "    w = [aij if index>i else 0 for index,aij in enumerate(matriz[:][i]) ]\n",
    "    comprimento_w = comprimento(w)\n",
    "    \n",
    "    w_ = [0 if index!=i+1 else comprimento_w for index in range(n)]\n",
    "    \n",
    "    N = np.array( w ) - np.array( w_ )\n",
    "    N = N.tolist()\n",
    "    \n",
    "    comprimento_N = comprimento(N)\n",
    "    \n",
    "    n_matriz_espelo = np.array( N ) / np.array( comprimento_N )\n",
    "    \n",
    "    transposta = np.array( [ [i] for i in n_matriz_espelo[:] ] )\n",
    "    h = np.array(identidade(n)) - (2* ( n_matriz_espelo * transposta ))\n",
    "    \n",
    "    return h.tolist()"
   ]
  },
  {
   "cell_type": "code",
   "execution_count": 27,
   "metadata": {},
   "outputs": [],
   "source": [
    "def metodoDeHouseholder(matriz_a):\n",
    "    n = len(matriz_a)\n",
    "    H = identidade(n)\n",
    "    velho_a = matriz_a\n",
    "    for i in range(0,n-3):\n",
    "        h = matrizHouseholderBaseadaNaCol_iDaMatrizDoPassoAnterior(velho_a, i)\n",
    "        \n",
    "        h_transposto = Transposta(h)\n",
    "        novo_a = multiplica( h_transposto, velho_a )\n",
    "        novo_a = multiplica( novo_a, h )\n",
    "        \n",
    "        velho_a = novo_a\n",
    "        H = multiplica( H, h )\n",
    "                \n",
    "    return (velho_a, H)"
   ]
  },
  {
   "cell_type": "code",
   "execution_count": 35,
   "metadata": {
    "scrolled": true
   },
   "outputs": [
    {
     "name": "stdout",
     "output_type": "stream",
     "text": [
      "MATRIZ Ã\n",
      "40.0\t9.22\t0.0\t0.0\t0.0\t\n",
      "9.22\t39.8\t4.07\t0.0\t0.0\t\n",
      "0.0\t4.07\t15.1\t4.63\t4.26\t\n",
      "0.0\t0.0\t4.63\t18.8\t4.53\t\n",
      "0.0\t0.0\t4.26\t4.53\t6.29\t\n",
      "\n",
      "MATRIZ H\n",
      "1.0\t0.0\t0.0\t0.0\t0.0\t\n",
      "0.0\t0.868\t0.0\t0.206\t0.0\t\n",
      "0.0\t0.434\t0.552\t0.0\t0.0\t\n",
      "0.0\t0.217\t0.703\t0.661\t0.148\t\n",
      "0.0\t0.108\t0.0\t0.0\t0.976\t\n"
     ]
    }
   ],
   "source": [
    "A_, H = metodoDeHouseholder(A)\n",
    "\n",
    "print(\"MATRIZ Ã\")\n",
    "print_matriz(A_, 10**-4)\n",
    "\n",
    "print()\n",
    "\n",
    "print(\"MATRIZ H\")\n",
    "print_matriz(H, 10**-4)\n",
    "H = np.array(H)"
   ]
  },
  {
   "cell_type": "code",
   "execution_count": 36,
   "metadata": {},
   "outputs": [],
   "source": [
    "vetores = np.array([i[1] for i in todo_valores(A_)])"
   ]
  },
  {
   "cell_type": "code",
   "execution_count": 37,
   "metadata": {},
   "outputs": [
    {
     "data": {
      "text/plain": [
       "array([[-0.00909375,  0.04132545,  0.10328737, -0.70728426,  0.69806848],\n",
       "       [ 0.03549574, -0.12710876, -0.18319167,  0.66654712,  0.71044156],\n",
       "       [-0.29188265,  0.7869628 ,  0.49437958,  0.2082686 ,  0.08747155],\n",
       "       [-0.19489248, -0.5885383 ,  0.77856431,  0.09639042,  0.01476369],\n",
       "       [ 0.93567024,  0.12824894,  0.32434391,  0.05288648,  0.01019501]])"
      ]
     },
     "execution_count": 37,
     "metadata": {},
     "output_type": "execute_result"
    }
   ],
   "source": [
    "vetores.T"
   ]
  },
  {
   "cell_type": "code",
   "execution_count": 39,
   "metadata": {},
   "outputs": [
    {
     "name": "stdout",
     "output_type": "stream",
     "text": [
      "auto vetores de A\n"
     ]
    },
    {
     "data": {
      "text/plain": [
       "array([[-0.00909375,  0.04132545,  0.10328737, -0.70728426,  0.69806848],\n",
       "       [ 0.03203905, -0.59191776, -0.24727893,  0.50119986,  0.57986699],\n",
       "       [-0.13174923,  0.77448132, -0.39382356,  0.32980425,  0.34486307],\n",
       "       [-0.18744519,  0.15535744,  0.87053618,  0.36252336,  0.2268579 ],\n",
       "       [ 0.9728295 ,  0.15481705,  0.12350954,  0.09139822,  0.07784359]])"
      ]
     },
     "execution_count": 39,
     "metadata": {},
     "output_type": "execute_result"
    }
   ],
   "source": [
    "print(\"auto vetores de A\")\n",
    "H.dot( vetores.T )"
   ]
  },
  {
   "cell_type": "code",
   "execution_count": 40,
   "metadata": {},
   "outputs": [
    {
     "data": {
      "text/plain": [
       "(49.3831459413551,\n",
       " array([0.69805185, 0.57987878, 0.34487082, 0.22686645, 0.07784574]))"
      ]
     },
     "execution_count": 40,
     "metadata": {},
     "output_type": "execute_result"
    }
   ],
   "source": [
    "potencia(A)"
   ]
  }
 ],
 "metadata": {
  "kernelspec": {
   "display_name": "Python 3",
   "language": "python",
   "name": "python3"
  },
  "language_info": {
   "codemirror_mode": {
    "name": "ipython",
    "version": 3
   },
   "file_extension": ".py",
   "mimetype": "text/x-python",
   "name": "python",
   "nbconvert_exporter": "python",
   "pygments_lexer": "ipython3",
   "version": "3.7.7"
  }
 },
 "nbformat": 4,
 "nbformat_minor": 4
}
