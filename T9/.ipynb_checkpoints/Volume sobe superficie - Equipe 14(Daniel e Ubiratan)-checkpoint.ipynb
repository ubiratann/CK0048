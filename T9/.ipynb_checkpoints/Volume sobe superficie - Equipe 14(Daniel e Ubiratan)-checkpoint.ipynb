{
 "cells": [
  {
   "cell_type": "code",
   "execution_count": 1,
   "metadata": {},
   "outputs": [],
   "source": [
    "import math"
   ]
  },
  {
   "cell_type": "code",
   "execution_count": 2,
   "metadata": {},
   "outputs": [],
   "source": [
    "def r_to_alfa(r):\n",
    "    return (r+1)/2\n",
    "def s_to_beta(s):\n",
    "    return math.pi + math.pi*s"
   ]
  },
  {
   "cell_type": "code",
   "execution_count": 3,
   "metadata": {},
   "outputs": [],
   "source": [
    "def x(alfa, beta):\n",
    "    return 40*alfa*math.cos(beta)\n",
    "\n",
    "def y(alfa, beta):\n",
    "    return 40*alfa*math.sin(beta)"
   ]
  },
  {
   "cell_type": "code",
   "execution_count": 4,
   "metadata": {},
   "outputs": [],
   "source": [
    "def g(r,s):\n",
    "    return 0.4 * ( ( x( r_to_alfa(r),s_to_beta(s) )**2 ) - (y( r_to_alfa(r),s_to_beta(s) )**2) ) * 1600 * r_to_alfa(r)"
   ]
  },
  {
   "cell_type": "code",
   "execution_count": 5,
   "metadata": {},
   "outputs": [],
   "source": [
    "v = [-math.sqrt(3/5), 0, math.sqrt(3/5)]\n",
    "w = [5/9, 8/9, 5/9]"
   ]
  },
  {
   "cell_type": "code",
   "execution_count": 6,
   "metadata": {},
   "outputs": [],
   "source": [
    "somatorio = 0\n",
    "for index1, r in enumerate(v):\n",
    "    for index2, s in enumerate(v):\n",
    "        soma =  g(r,s) *w[index1]*w[index2]\n",
    "        somatorio += soma\n",
    "somatorio *= math.pi/2"
   ]
  },
  {
   "cell_type": "code",
   "execution_count": 7,
   "metadata": {},
   "outputs": [
    {
     "data": {
      "text/plain": [
       "852440.8910744956"
      ]
     },
     "execution_count": 7,
     "metadata": {},
     "output_type": "execute_result"
    }
   ],
   "source": [
    "somatorio"
   ]
  }
 ],
 "metadata": {
  "kernelspec": {
   "display_name": "Python 3",
   "language": "python",
   "name": "python3"
  },
  "language_info": {
   "codemirror_mode": {
    "name": "ipython",
    "version": 3
   },
   "file_extension": ".py",
   "mimetype": "text/x-python",
   "name": "python",
   "nbconvert_exporter": "python",
   "pygments_lexer": "ipython3",
   "version": "3.7.7"
  }
 },
 "nbformat": 4,
 "nbformat_minor": 4
}
