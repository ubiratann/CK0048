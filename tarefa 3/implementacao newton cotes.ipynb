{
 "cells": [
  {
   "cell_type": "code",
   "execution_count": 1,
   "metadata": {},
   "outputs": [],
   "source": [
    "import math"
   ]
  },
  {
   "cell_type": "code",
   "execution_count": 2,
   "metadata": {},
   "outputs": [],
   "source": [
    "def h_fechado(limite_inferior, limite_superior):\n",
    "    h = (limite_superior-limite_inferior)/4\n",
    "    pontos = []\n",
    "    for i in range(5):\n",
    "        pontos.append(limite_inferior + h*i)\n",
    "    return (h, pontos)\n",
    "\n",
    "def h_aberto(limite_inferior, limite_superior):\n",
    "    h = (limite_superior-limite_inferior)/6\n",
    "    pontos = []\n",
    "    for i in range(5):\n",
    "        pontos.append(limite_inferior + h*(i+1))\n",
    "    return (h, pontos)"
   ]
  },
  {
   "cell_type": "code",
   "execution_count": 3,
   "metadata": {},
   "outputs": [],
   "source": [
    "def aproximador(funcao, a, b, n_divisoes,fechado=True):\n",
    "    if(fechado):\n",
    "        pesos = [14, 64, 24, 64, 14]\n",
    "        divisor = 45\n",
    "        calcularPontos = h_fechado\n",
    "    else:\n",
    "        pesos = [33, -42, 78, -42, 33]\n",
    "        divisor = 10\n",
    "        calcularPontos = h_aberto\n",
    "\n",
    "    soma_total = 0\n",
    "    quantidade_divisoes = (2**n_divisoes)\n",
    "    Dx = (b - a) / quantidade_divisoes\n",
    "    \n",
    "    for i in range(quantidade_divisoes):\n",
    "        xi = a + i*Dx\n",
    "        xf = xi + Dx\n",
    "        h, pontos = calcularPontos(xi, xf)\n",
    "        \n",
    "        soma_parcial = 0\n",
    "        for j in range(len(pesos)):\n",
    "            soma_parcial += pesos[j] * funcao(pontos[j])\n",
    "            \n",
    "        soma_total += soma_parcial * h / divisor\n",
    "    return soma_total"
   ]
  },
  {
   "cell_type": "code",
   "execution_count": 4,
   "metadata": {},
   "outputs": [],
   "source": [
    "def boolin(funcao, limite_Inf=0, limite_Sup=1, fechado=True):\n",
    "    erro = 10**(-6)\n",
    "\n",
    "    valor_anterior = aproximador(funcao, limite_Inf, limite_Sup, 0, fechado)\n",
    "    valor_atual = aproximador(funcao, limite_Inf, limite_Sup, 1, fechado)\n",
    "\n",
    "    interacoes = 1\n",
    "    while( abs(valor_anterior - valor_atual) > erro):\n",
    "        interacoes+=1\n",
    "        valor_anterior = valor_atual\n",
    "        valor_atual = aproximador(funcao, limite_Inf, limite_Sup, interacoes, fechado)\n",
    "\n",
    "    print(\"qtd particoes 2^{}\\nvalor aproximacao = {}\".format(interacoes, valor_atual))"
   ]
  },
  {
   "cell_type": "code",
   "execution_count": 5,
   "metadata": {},
   "outputs": [
    {
     "name": "stdout",
     "output_type": "stream",
     "text": [
      "qtd particoes 2^3\n",
      "valor aproximacao = 17.876470347803945\n",
      "qtd particoes 2^3\n",
      "valor aproximacao = 17.87647033082215\n"
     ]
    }
   ],
   "source": [
    "def funcao(x):\n",
    "    return ( math.sin(2*x) + (4*x*x) + ((3*x)) )**2\n",
    "\n",
    "boolin(funcao, limite_Inf=0, limite_Sup=1, fechado=True)\n",
    "boolin(funcao, limite_Inf=0, limite_Sup=1, fechado=False)"
   ]
  },
  {
   "cell_type": "code",
   "execution_count": null,
   "metadata": {},
   "outputs": [],
   "source": []
  }
 ],
 "metadata": {
  "kernelspec": {
   "display_name": "Python 3",
   "language": "python",
   "name": "python3"
  },
  "language_info": {
   "codemirror_mode": {
    "name": "ipython",
    "version": 3
   },
   "file_extension": ".py",
   "mimetype": "text/x-python",
   "name": "python",
   "nbconvert_exporter": "python",
   "pygments_lexer": "ipython3",
   "version": "3.7.7"
  }
 },
 "nbformat": 4,
 "nbformat_minor": 4
}
