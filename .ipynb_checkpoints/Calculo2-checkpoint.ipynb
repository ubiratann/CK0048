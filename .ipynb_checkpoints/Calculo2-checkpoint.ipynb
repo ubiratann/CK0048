{
 "cells": [
  {
   "cell_type": "code",
   "execution_count": 75,
   "metadata": {},
   "outputs": [],
   "source": [
    "import math"
   ]
  },
  {
   "cell_type": "code",
   "execution_count": 84,
   "metadata": {},
   "outputs": [],
   "source": [
    "def SomaHimma(funcao, limite_Inf, limite_Sup, n_divisoes):\n",
    "    Dx = (limite_Sup - limite_Inf) / (2**n_divisoes)\n",
    "    somatorio_area = 0\n",
    "    for i in range((2**n_divisoes)):\n",
    "        a = limite_Inf + Dx*i\n",
    "        b = a + Dx\n",
    "        meio_dx = (b+a)/2\n",
    "        \n",
    "        somatorio_area += funcao(meio_dx) * Dx\n",
    "    return somatorio_area"
   ]
  },
  {
   "cell_type": "code",
   "execution_count": 86,
   "metadata": {},
   "outputs": [],
   "source": [
    "def SomaTrapezios(funcao, limite_Inf, limite_Sup, n_divisoes):\n",
    "    Dx = (limite_Sup - limite_Inf) / (2**n_divisoes)\n",
    "    somatorio_area = 0\n",
    "    for i in range((2**n_divisoes)):\n",
    "        a = limite_Inf + Dx*i\n",
    "        b = a + Dx\n",
    "        \n",
    "        somatorio_area += (funcao(a)+funcao(b)) * Dx / 2\n",
    "    return somatorio_area"
   ]
  },
  {
   "cell_type": "code",
   "execution_count": 88,
   "metadata": {},
   "outputs": [],
   "source": [
    "def SomaTrapeziosAberto(funcao, limite_Inf, limite_Sup, n_divisoes):\n",
    "    Dx = (limite_Sup - limite_Inf) / (2**n_divisoes)\n",
    "    Dxx = Dx / 3\n",
    "    somatorio_area = 0\n",
    "    for i in range((2**n_divisoes)):\n",
    "        a = limite_Inf + Dx*i\n",
    "        b = a + Dx\n",
    "        \n",
    "        p1 = a+Dxx\n",
    "        p2 = p1+Dxx\n",
    "        \n",
    "        somatorio_area += (funcao(p1)+funcao(p2)) * Dx / 2\n",
    "    return somatorio_area"
   ]
  },
  {
   "cell_type": "code",
   "execution_count": 90,
   "metadata": {},
   "outputs": [
    {
     "name": "stdout",
     "output_type": "stream",
     "text": [
      "2.0000001307276207\n",
      "11\n"
     ]
    }
   ],
   "source": [
    "n = 1\n",
    "limite_Inf = 0\n",
    "limite_Sup = math.pi\n",
    "erro = 0.000001\n",
    "funcao = math.sin\n",
    "\n",
    "aproximador = SomaTrapeziosAberto #SomaTrapezios #SomaHimma\n",
    "\n",
    "valor_anterior = 0\n",
    "valor_atual = aproximador(funcao, limite_Inf, limite_Sup, n)\n",
    "\n",
    "while abs(valor_atual - valor_anterior) > erro :\n",
    "    n += 1\n",
    "    valor_anterior = valor_atual\n",
    "    valor_atual = aproximador(funcao, limite_Inf, limite_Sup, n)\n",
    "print(valor_atual)\n",
    "print(n)"
   ]
  }
 ],
 "metadata": {
  "kernelspec": {
   "display_name": "Python 3",
   "language": "python",
   "name": "python3"
  },
  "language_info": {
   "codemirror_mode": {
    "name": "ipython",
    "version": 3
   },
   "file_extension": ".py",
   "mimetype": "text/x-python",
   "name": "python",
   "nbconvert_exporter": "python",
   "pygments_lexer": "ipython3",
   "version": "3.6.9"
  }
 },
 "nbformat": 4,
 "nbformat_minor": 2
}
