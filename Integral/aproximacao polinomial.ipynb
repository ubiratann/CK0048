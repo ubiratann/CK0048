{
 "cells": [
  {
   "cell_type": "code",
   "execution_count": 6,
   "metadata": {},
   "outputs": [],
   "source": [
    "import math"
   ]
  },
  {
   "cell_type": "code",
   "execution_count": 7,
   "metadata": {},
   "outputs": [],
   "source": [
    "def derivar(pontos, k, r=0):\n",
    "    if(k == 0):\n",
    "        return pontos[r]\n",
    "    return derivar(pontos, k-1, r+1) - derivar(pontos, k-1, r)"
   ]
  },
  {
   "cell_type": "code",
   "execution_count": 8,
   "metadata": {},
   "outputs": [],
   "source": [
    "def Newton(grau, pontos, s):\n",
    "    soma = 0\n",
    "    for k in range(0,grau+1):\n",
    "        binomio = 1\n",
    "        for i in range(k):\n",
    "            binomio *= s-i\n",
    "        binomio /= math.factorial(k)\n",
    "        #print(\"k={}  {}\".format(k, binomio))\n",
    "        derivacao = derivar(pontos, k, 0)\n",
    "        #print(\"derivacao={}  {}\".format(k, derivacao)\n",
    "        soma += binomio * derivacao\n",
    "    return soma"
   ]
  },
  {
   "cell_type": "code",
   "execution_count": 9,
   "metadata": {},
   "outputs": [],
   "source": [
    "def grau1(pontos, s):\n",
    "    return (pontos[0]*(1-s)) + (pontos[1]*s)\n",
    "def grau2(pontos, s):\n",
    "    return pontos[0]*( 1 -(3/2)*s +(s*s/2) ) + pontos[1]*( (2*s) -(s*s) ) + pontos[2]*( (s*s) - s )/2\n",
    "def grau3(pontos, s):\n",
    "    r0 = pontos[0] * (1 -(11*s/6) +(s*s) -(s*s*s/6))\n",
    "    r1 = pontos[1] * ((6*s) -(5*s*s) +(s*s*s))/2\n",
    "    r2 = pontos[2] * ((-3*s) +(4*s*s) -(s*s*s))/2\n",
    "    r3 = pontos[3] * ((2*s) -(3*s*s) + (s*s*s))/6\n",
    "    return r0 + r1 + r2 + r3\n",
    "def grau4(pontos, s):\n",
    "    r0 = pontos[0] * (1 +(11*s/24) +(11*s*s/16) -(5*s*s*s/24) +(3*s*s*s*s/48))\n",
    "    r1 = pontos[1] * ((9*s/2) -(21*s*s/4) +(2*s*s*s) -(s*s*s*s/4))\n",
    "    r2 = pontos[2] * (-(15*s/4) +(49*s*s/8) -(11*s*s*s/4) +(3*s*s*s*s/8))\n",
    "    r3 = pontos[3] * ((11*s/6) -(13*s*s/4) +(5*s*s*s/3) -(s*s*s*s/4))\n",
    "    r4 = pontos[4] * (-(3*s/8) +(11*s*s/16) -(3*s*s*s/8) +(s*s*s*s/16))\n",
    "    return r0 + r1 + r2 + r3 + r4"
   ]
  },
  {
   "cell_type": "code",
   "execution_count": 11,
   "metadata": {},
   "outputs": [
    {
     "name": "stdout",
     "output_type": "stream",
     "text": [
      "interacao 0 ----------\n",
      "1.0 == 1 = True\n",
      "1.0 == 1.0 = True\n",
      "1.0 == 1.0 = True\n",
      "1.0 == 1.0 = True\n",
      "interacao 1 ----------\n",
      "2.0 == 2 = True\n",
      "2.0 == 2.0 = True\n",
      "2.0 == 2.0 = True\n",
      "2.0 == 4.0 = False\n",
      "interacao 2 ----------\n",
      "3.0 == 3 = True\n",
      "3.0 == 3.0 = True\n",
      "3.0 == 3.0 = True\n",
      "3.0 == 6.999999999999999 = False\n",
      "interacao 3 ----------\n",
      "4.0 == 4 = True\n",
      "4.0 == 4.0 = True\n",
      "4.0 == 4.0 = True\n",
      "4.0 == 12.0 = False\n",
      "interacao 4 ----------\n",
      "5.0 == 5 = True\n",
      "5.0 == 5.0 = True\n",
      "5.0 == 5.000000000000002 = False\n",
      "5.0 == 21.00000000000003 = False\n",
      "interacao 5 ----------\n",
      "6.0 == 6 = True\n",
      "6.0 == 6.0 = True\n",
      "6.0 == 6.0 = True\n",
      "6.0 == 36.0 = False\n",
      "interacao 6 ----------\n",
      "7.0 == 7 = True\n",
      "7.0 == 7.0 = True\n",
      "7.0 == 7.0 = True\n",
      "7.0 == 59.0 = False\n",
      "interacao 7 ----------\n",
      "8.0 == 8 = True\n",
      "8.0 == 8.0 = True\n",
      "8.0 == 8.0 = True\n",
      "8.0 == 92.0 = False\n",
      "interacao 8 ----------\n",
      "9.0 == 9 = True\n",
      "9.0 == 9.0 = True\n",
      "9.0 == 9.0 = True\n",
      "9.0 == 137.0 = False\n",
      "interacao 9 ----------\n",
      "10.0 == 10 = True\n",
      "10.0 == 10.0 = True\n",
      "10.0 == 10.0 = True\n",
      "10.0 == 196.0 = False\n"
     ]
    }
   ],
   "source": [
    "pontos = [1,2,3,4,5]\n",
    "for s in range(10):\n",
    "    print(\"interacao {} ----------\".format(s))\n",
    "    valor1 = Newton(1, pontos, s)\n",
    "    valor2 = grau1(pontos, s)\n",
    "    print(\"{} == {} = {}\".format(valor1, valor2, (valor1==valor2)))\n",
    "    \n",
    "    valor1 = Newton(2, pontos, s)\n",
    "    valor2 = grau2(pontos, s)\n",
    "    print(\"{} == {} = {}\".format(valor1, valor2, (valor1==valor2)))\n",
    "    \n",
    "    valor1 = Newton(3, pontos, s)\n",
    "    valor2 = grau3(pontos, s)\n",
    "    print(\"{} == {} = {}\".format(valor1, valor2, (valor1==valor2)))\n",
    "    \n",
    "    valor1 = Newton(4, pontos, s)\n",
    "    valor2 = grau4(pontos, s)\n",
    "    print(\"{} == {} = {}\".format(valor1, valor2, (valor1==valor2)))"
   ]
  },
  {
   "cell_type": "code",
   "execution_count": null,
   "metadata": {},
   "outputs": [],
   "source": []
  }
 ],
 "metadata": {
  "kernelspec": {
   "display_name": "Python 3",
   "language": "python",
   "name": "python3"
  },
  "language_info": {
   "codemirror_mode": {
    "name": "ipython",
    "version": 3
   },
   "file_extension": ".py",
   "mimetype": "text/x-python",
   "name": "python",
   "nbconvert_exporter": "python",
   "pygments_lexer": "ipython3",
   "version": "3.7.7"
  }
 },
 "nbformat": 4,
 "nbformat_minor": 4
}
