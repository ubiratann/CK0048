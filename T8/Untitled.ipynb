{
 "cells": [
  {
   "cell_type": "code",
   "execution_count": 36,
   "metadata": {},
   "outputs": [],
   "source": [
    "import math"
   ]
  },
  {
   "cell_type": "code",
   "execution_count": 37,
   "metadata": {},
   "outputs": [],
   "source": [
    "def r_to_alfa(r):\n",
    "    return (1)/2 + (1)*r/2\n",
    "def s_to_beta(s):\n",
    "    return math.pi + math.pi*s"
   ]
  },
  {
   "cell_type": "code",
   "execution_count": 38,
   "metadata": {},
   "outputs": [],
   "source": [
    "def x(alfa, beta):\n",
    "    return 40*alfa*math.cos(beta)\n",
    "\n",
    "def y(alfa, beta):\n",
    "    return 40*alfa*math.sin(beta)"
   ]
  },
  {
   "cell_type": "code",
   "execution_count": 43,
   "metadata": {},
   "outputs": [],
   "source": [
    "def g(r,s):\n",
    "    return  math.sqrt( (0.4**2) * ( x( r_to_alfa(r),s_to_beta(s) )**2 + y( r_to_alfa(r),s_to_beta(s) )**2 ) + 1 ) * 1600 * r_to_alfa(r)"
   ]
  },
  {
   "cell_type": "code",
   "execution_count": 44,
   "metadata": {},
   "outputs": [],
   "source": [
    "v = [-math.sqrt(3/5), 0, math.sqrt(3/5)]\n",
    "w = [5/9, 8/9, 5/9]"
   ]
  },
  {
   "cell_type": "code",
   "execution_count": 47,
   "metadata": {},
   "outputs": [
    {
     "name": "stdout",
     "output_type": "stream",
     "text": [
      "114.75796819331842\n",
      "183.61274910930945\n",
      "114.75796819331842\n",
      "3185.0894808093044\n",
      "5096.143169294886\n",
      "3185.0894808093044\n",
      "6236.041820933183\n",
      "9977.666913493093\n",
      "6236.041820933184\n"
     ]
    }
   ],
   "source": [
    "somatorio = 0\n",
    "for index1, r in enumerate(v):\n",
    "    for index2, s in enumerate(v):\n",
    "        soma =  g(r,s) *w[index1]*w[index2]\n",
    "        print(soma)\n",
    "        somatorio += soma\n",
    "somatorio *= math.pi/2"
   ]
  },
  {
   "cell_type": "code",
   "execution_count": 48,
   "metadata": {},
   "outputs": [
    {
     "data": {
      "text/plain": [
       "53924.18341657691"
      ]
     },
     "execution_count": 48,
     "metadata": {},
     "output_type": "execute_result"
    }
   ],
   "source": [
    "somatorio"
   ]
  }
 ],
 "metadata": {
  "kernelspec": {
   "display_name": "Python 3",
   "language": "python",
   "name": "python3"
  },
  "language_info": {
   "codemirror_mode": {
    "name": "ipython",
    "version": 3
   },
   "file_extension": ".py",
   "mimetype": "text/x-python",
   "name": "python",
   "nbconvert_exporter": "python",
   "pygments_lexer": "ipython3",
   "version": "3.7.7"
  }
 },
 "nbformat": 4,
 "nbformat_minor": 4
}
