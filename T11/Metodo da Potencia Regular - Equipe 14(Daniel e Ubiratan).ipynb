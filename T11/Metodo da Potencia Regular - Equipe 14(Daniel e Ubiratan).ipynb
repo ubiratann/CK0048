{
 "cells": [
  {
   "cell_type": "code",
   "execution_count": 1,
   "metadata": {},
   "outputs": [],
   "source": [
    "import numpy as np"
   ]
  },
  {
   "cell_type": "markdown",
   "metadata": {},
   "source": [
    "# Método da Potência"
   ]
  },
  {
   "cell_type": "code",
   "execution_count": 2,
   "metadata": {},
   "outputs": [],
   "source": [
    "def potencia(A,v0=np.array([]),tolerancia=1e-10,max_iteracoes=100000):\n",
    "    if v0.size == 0:\n",
    "        v0 = np.ones(np.shape(A)[0])\n",
    "\n",
    "    vkN = np.copy(v0)\n",
    "\n",
    "    autValN = 0\n",
    "    for num_iteracoes in range(max_iteracoes):\n",
    "        autValV = autValN #step 4\n",
    "\n",
    "        vkV = np.copy(vkN) #step 5\n",
    "\n",
    "        x1velho = np.divide(vkV,(np.sqrt(np.matmul(vkV.T , vkV)))) #step 6\n",
    "\n",
    "        vkN = np.matmul(A,x1velho) #step 7\n",
    "\n",
    "        autValN = np.matmul(x1velho.T, vkN) #step 8\n",
    "\n",
    "        if abs(np.divide( np.subtract(autValN , autValV ),autValN)) < tolerancia: #step 9\n",
    "            return autValN,x1velho\n"
   ]
  },
  {
   "cell_type": "markdown",
   "metadata": {},
   "source": [
    "# BenchMarks"
   ]
  },
  {
   "cell_type": "code",
   "execution_count": 3,
   "metadata": {},
   "outputs": [],
   "source": [
    "A1 = np.array([\n",
    "        [5, 2, 1],\n",
    "        [2, 3, 1],\n",
    "        [1, 1, 2]\n",
    "        ],float)"
   ]
  },
  {
   "cell_type": "code",
   "execution_count": 4,
   "metadata": {},
   "outputs": [],
   "source": [
    "A2 = np.array([\n",
    "        [40, 8, 4, 2, 1],\n",
    "        [8, 30, 12, 6, 2],\n",
    "        [4, 12, 20, 1, 2],\n",
    "        [2, 6, 1, 25, 4],\n",
    "        [1, 2, 2, 4, 5],\n",
    "],float)"
   ]
  },
  {
   "cell_type": "markdown",
   "metadata": {},
   "source": [
    "# Resultados do Método"
   ]
  },
  {
   "cell_type": "code",
   "execution_count": 5,
   "metadata": {},
   "outputs": [
    {
     "name": "stdout",
     "output_type": "stream",
     "text": [
      "autovalor => 6.6457513110424165\n",
      "autovetor => [0.80517185 0.51994284 0.28523279]\n"
     ]
    }
   ],
   "source": [
    "(r1,r2)  = (potencia(A1))\n",
    "print(f\"autovalor => {r1}\\nautovetor => {r2.T}\")"
   ]
  },
  {
   "cell_type": "code",
   "execution_count": 6,
   "metadata": {
    "scrolled": true
   },
   "outputs": [
    {
     "name": "stdout",
     "output_type": "stream",
     "text": [
      "autovalor => 49.38314594135511\n",
      "autovetor => [0.69805185 0.57987878 0.34487082 0.22686645 0.07784574]\n"
     ]
    }
   ],
   "source": [
    "(r1,r2)  = (potencia(A2))\n",
    "print(f\"autovalor => {r1}\\nautovetor => {r2.T}\")"
   ]
  },
  {
   "cell_type": "code",
   "execution_count": 7,
   "metadata": {},
   "outputs": [],
   "source": [
    "def potencia_regular(A):\n",
    "    v = np.ones((A.shape[0],1))\n",
    "    tolerancia = 1E-10\n",
    "\n",
    "    lambda_ = 0\n",
    "    dif = 1\n",
    "\n",
    "    while dif > tolerancia:\n",
    "        lambda_velho=lambda_\n",
    "        x1 = v / np.linalg.norm(v)\n",
    "        v = A.dot(x1)\n",
    "        lambda_ = x1.T.dot(v)\n",
    "        dif = abs((lambda_-lambda_velho)/lambda_)\n",
    "\n",
    "        #print('autovetor = \\n ',x1)\n",
    "        #print('autovalor = ',lambda_,'\\n')\n",
    "\n",
    "    return x1,lambda_"
   ]
  }
 ],
 "metadata": {
  "kernelspec": {
   "display_name": "Python 3",
   "language": "python",
   "name": "python3"
  },
  "language_info": {
   "codemirror_mode": {
    "name": "ipython",
    "version": 3
   },
   "file_extension": ".py",
   "mimetype": "text/x-python",
   "name": "python",
   "nbconvert_exporter": "python",
   "pygments_lexer": "ipython3",
   "version": "3.8.3"
  }
 },
 "nbformat": 4,
 "nbformat_minor": 4
}
