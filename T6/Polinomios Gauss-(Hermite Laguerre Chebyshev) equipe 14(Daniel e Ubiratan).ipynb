{
 "cells": [
  {
   "cell_type": "code",
   "execution_count": 1,
   "metadata": {},
   "outputs": [],
   "source": [
    "from math import pow,factorial,sqrt,sin,pi"
   ]
  },
  {
   "cell_type": "code",
   "execution_count": 2,
   "metadata": {},
   "outputs": [],
   "source": [
    "def f(x):\n",
    "    return ( sin(2*x) + (4*x*x) + ((3*x)) )**2"
   ]
  },
  {
   "cell_type": "code",
   "execution_count": 4,
   "metadata": {},
   "outputs": [],
   "source": [
    "def aproximador(pol,f,i,pesosmat,raizesmat):\n",
    "\n",
    "    if pol == 'H':\n",
    "        pesos = pesosmat[i]\n",
    "        raizes = raizesmat[i]\n",
    "\n",
    "    if pol == 'L':\n",
    "        pesos = pesosmat[i]\n",
    "        raizes = raizesmat[i]\n",
    "\n",
    "    if pol == 'T':\n",
    "        pesos = pesosmat[i]\n",
    "        raizes = raizesmat[i]\n",
    "\n",
    "    resultado = 0\n",
    "    for k in range(len(pesos)):\n",
    "        resultado += pesos[k]*f(raizes[k])\n",
    "\n",
    "    return resultado"
   ]
  },
  {
   "cell_type": "code",
   "execution_count": 6,
   "metadata": {},
   "outputs": [],
   "source": [
    "def quadratura(pol,f,n):\n",
    "\n",
    "    raizesH = [[-0.70710,0.70710],[-1.22474,0,1.22474],[1.65068,0.52464,-0.52464,-1.65068]]\n",
    "    pesosH =  [[0.88622,0.88622] ,[0.29540,1.18163,0.29540],[0.08131,0.80492,0.80492,0.08131]]\n",
    "\n",
    "    raizesL = [[0.58578,3.41421],[0.41577,2.29428,6.28994],[0.32254,1.74576,4.53662,9.39507]]\n",
    "    pesosL =  [[0.85355,0.14644],[0.71109,0.27851,0.01038],[0.60328,0.35742,0.03888,0.00053]]\n",
    "\n",
    "    raizesT = [[0.70710,-0.70710],[-0.86602,0,0.86602],[0.92387,0.38268,-0.38268,-0.92387]]\n",
    "    pesosT = [[pi/2,pi/2],[pi/3,pi/3,pi/3],[pi/4,pi/4,pi/4,pi/4]]\n",
    "\n",
    "    if pol == 'H':\n",
    "         return(aproximador(pol,f,n-2,pesosH,raizesH))\n",
    "\n",
    "    if pol == 'L':\n",
    "        return(aproximador(pol,f,n-2,pesosL,raizesL))\n",
    "\n",
    "    if pol == 'T':\n",
    "        return(aproximador(pol,f,n-2,pesosT,raizesT))"
   ]
  },
  {
   "cell_type": "code",
   "execution_count": 7,
   "metadata": {},
   "outputs": [
    {
     "name": "stdout",
     "output_type": "stream",
     "text": [
      "Quadratura de Gauss-Hermite usando 2 pontos= 24.222385649051795\n",
      "Quadratura de Gauss-Hermite usando 3 pontos= 32.25537163185451\n",
      "Quadratura de Gauss-Hermite usando 4 pontos= 34.596517950227124\n",
      "\n",
      "Quadratura de Gauss-Laguerre usando 2 pontos= 496.30149838709093\n",
      "Quadratura de Gauss-Laguerre usando 3 pontos= 533.0094335845396\n",
      "Quadratura de Gauss-Laguerre usando 4 pontos= 544.1186448112843\n",
      "\n",
      "Quadratura de Gauss-Chebyshev usando 2 pontos= 42.93339622637716\n",
      "Quadratura de Gauss-Chebyshev usando 3 pontos= 45.768049759183306\n",
      "Quadratura de Gauss-Chebyshev usando 4 pontos= 46.06713673653364\n",
      "\n"
     ]
    }
   ],
   "source": [
    "nomes = [\"Hermite\", \"Laguerre\", \"Chebyshev\"]\n",
    "quads = [\"H\",\"L\",\"T\"]\n",
    "for i in range(len(quads)):\n",
    "    for k in range(2,5):\n",
    "        print(\"Quadratura de Gauss-{} usando {} pontos= {}\".format(nomes[i],k,quadratura(quads[i],f,k)))\n",
    "    print()"
   ]
  }
 ],
 "metadata": {
  "kernelspec": {
   "display_name": "Python 3",
   "language": "python",
   "name": "python3"
  },
  "language_info": {
   "codemirror_mode": {
    "name": "ipython",
    "version": 3
   },
   "file_extension": ".py",
   "mimetype": "text/x-python",
   "name": "python",
   "nbconvert_exporter": "python",
   "pygments_lexer": "ipython3",
   "version": "3.7.5"
  }
 },
 "nbformat": 4,
 "nbformat_minor": 2
}
