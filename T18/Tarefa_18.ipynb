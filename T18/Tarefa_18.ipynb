{
  "nbformat": 4,
  "nbformat_minor": 0,
  "metadata": {
    "colab": {
      "name": "Tarefa 18",
      "provenance": [],
      "collapsed_sections": []
    },
    "kernelspec": {
      "name": "python3",
      "display_name": "Python 3"
    }
  },
  "cells": [
    {
      "cell_type": "code",
      "metadata": {
        "id": "f0FbV4vxL0ul"
      },
      "source": [
        "import math\n",
        "import numpy as np"
      ],
      "execution_count": 54,
      "outputs": []
    },
    {
      "cell_type": "code",
      "metadata": {
        "id": "fv9twzmkL5Ca"
      },
      "source": [
        "lista_variacoes_delta_t = [ 0.1, 0.01, 0.001, 0.0001 ]\n",
        "t0 = 0\n",
        "v0 = 5\n",
        "y0 = 200\n",
        "k = 0.25\n",
        "m = 2\n",
        "g = 10"
      ],
      "execution_count": 55,
      "outputs": []
    },
    {
      "cell_type": "code",
      "metadata": {
        "id": "6Vp-dhGjADGo"
      },
      "source": [
        "def F(v, y, dt):\n",
        "  s = np.array([v, y])\n",
        "  up = -g - ( (k/m)*v  )\n",
        "  down = v\n",
        "  return np.array([up, down])\n",
        "\n",
        "def F1(v, y, dt):\n",
        "  return F(v, y, dt)\n",
        "\n",
        "def F2(v, y, dt):\n",
        "  s = np.array([v, y])\n",
        "  s2 = s + (dt*F1(v, y, dt))/2\n",
        "  return F(s2[0], s2[1], dt)\n",
        "\n",
        "def F3(v, y, dt):\n",
        "  s = np.array([v, y])\n",
        "  s3 = s + (dt*F2(v, y, dt))/2\n",
        "  return F( s3[0], s3[1], dt )\n",
        "\n",
        "def F4(v, y, dt):\n",
        "  s = np.array([v, y])\n",
        "  s4 = s + (dt*F3(v, y, dt))\n",
        "  return F( s4[0], s4[1], dt )\n",
        "\n",
        "def RK(v, y, dt):\n",
        "  s = np.array([v, y])\n",
        "  f1 = F1(v, y, dt)\n",
        "  f2 = F2(v, y, dt)\n",
        "  f3 = F3(v, y, dt)\n",
        "  f4 = F4(v, y, dt)\n",
        "  si_1 = s + (f1 + 2*f2 + 2*f3 + f4)*dt/6\n",
        "  return si_1"
      ],
      "execution_count": 56,
      "outputs": []
    },
    {
      "cell_type": "code",
      "metadata": {
        "id": "VveSnPUeOUuB"
      },
      "source": [
        "def Preditor(valores, dt):\n",
        "\n",
        "  f_3 = valores[-4]\n",
        "  f_3 = F(f_3[0], f_3[1], dt)\n",
        "  f_2 = valores[-3]\n",
        "  f_2 = F(f_2[0], f_2[1], dt)\n",
        "  f_1 = valores[-2]\n",
        "  f_1 = F(f_1[0], f_1[1], dt)\n",
        "  f_0 = valores[-1]\n",
        "  f_0 = F(f_0[0], f_0[1], dt)\n",
        "  si = valores[-1]\n",
        "  si_1 = si + dt * ( (-9*f_3) + (37*f_2) - (59*f_1) +(55*f_0) ) / 24\n",
        "  return si_1"
      ],
      "execution_count": 75,
      "outputs": []
    },
    {
      "cell_type": "code",
      "metadata": {
        "id": "Yqxs8H93UX3H"
      },
      "source": [
        "def Corretor(valores, dt, erro = 0.001):\n",
        "  f_2 = valores[-4]\n",
        "  f_2 = F(f_2[0], f_2[1], dt)\n",
        "  f_1 = valores[-3]\n",
        "  f_1 = F(f_1[0], f_1[1], dt)\n",
        "  f_0 = valores[-2]\n",
        "  f_0 = F(f_0[0], f_0[1], dt)\n",
        "  f_i = valores[-1]\n",
        "  f_i = F(f_i[0], f_i[1], dt)\n",
        "\n",
        "  si = valores[-2]\n",
        "\n",
        "  si_1 = si + dt*( (16*f_2) + (-50*f_1) + (64*f_0) + (-6*f_i) )\n",
        "  count = 0\n",
        "  while ( abs( si_1 - valores[-1] )/si_1 ).all() > erro:\n",
        "    count += 1\n",
        "    valores[-1] = si_1\n",
        "    f_i = valores[-1]\n",
        "    f_i = F(f_i[0], f_i[1], dt)\n",
        "    si_1 = si + dt*( (16*f_2) + (-50*f_1) + (64*f_0) + (-6*f_i) ) /24\n",
        "  return si_1"
      ],
      "execution_count": 76,
      "outputs": []
    },
    {
      "cell_type": "code",
      "metadata": {
        "id": "UIEegbx34jxk",
        "outputId": "4d753fbe-d929-40ec-b194-f3ee751682f9",
        "colab": {
          "base_uri": "https://localhost:8080/"
        }
      },
      "source": [
        "def Preditor_Corretor(v, y, dt):\n",
        "  valores = []\n",
        "  valores.append( np.array([v,y]) )\n",
        "  si_1 = RK(v, y, dt)\n",
        "  valores.append( si_1 )\n",
        "  si_2 = RK(si_1[0], si_1[1], dt)\n",
        "  valores.append( si_2 )\n",
        "  si_3 = RK(si_2[0], si_2[1], dt)\n",
        "  valores.append( si_3 )\n",
        "  \n",
        "  while (valores[-1][1] >= 0.01):\n",
        "    predito = Preditor(valores, dt)\n",
        "    valores.append(predito)\n",
        "\n",
        "    correto = Corretor(valores, dt)\n",
        "    valores[-1] = correto\n",
        "\n",
        "  return valores\n",
        "\n",
        "for dt in lista_variacoes_delta_t:\n",
        "  predito = Preditor_Corretor(v0, y0, dt)\n",
        "  print(\"final %f\"%dt)\n",
        "  print(predito[-1])\n",
        "  print()"
      ],
      "execution_count": 80,
      "outputs": [
        {
          "output_type": "stream",
          "text": [
            "final 0.100000\n",
            "[-47.93868712  -0.49050304]\n",
            "\n",
            "final 0.010000\n",
            "[-4.78985482e+01 -1.16140859e-02]\n",
            "\n",
            "final 0.001000\n",
            "[-4.78985482e+01 -1.16143901e-02]\n",
            "\n",
            "final 0.000100\n",
            "[-4.78969431e+01  7.54470783e-03]\n",
            "\n"
          ],
          "name": "stdout"
        }
      ]
    },
    {
      "cell_type": "code",
      "metadata": {
        "id": "g0jKMzZrfrV_"
      },
      "source": [
        ""
      ],
      "execution_count": null,
      "outputs": []
    }
  ]
}