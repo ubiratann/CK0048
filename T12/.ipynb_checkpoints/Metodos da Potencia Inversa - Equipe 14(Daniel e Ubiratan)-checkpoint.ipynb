{
 "cells": [
  {
   "cell_type": "code",
   "execution_count": 1,
   "metadata": {},
   "outputs": [
    {
     "name": "stdout",
     "output_type": "stream",
     "text": [
      "autovalor => 6.6457513110424165\n",
      "autovetor => [0.80517185 0.51994284 0.28523279]\n",
      "autovalor => 49.3831459413551\n",
      "autovetor => [0.69805185 0.57987878 0.34487082 0.22686645 0.07784574]\n"
     ]
    }
   ],
   "source": [
    "%run \"..\\T11\\Metodo da Potencia Regular - Equipe 14(Daniel e Ubiratan).ipynb\""
   ]
  },
  {
   "cell_type": "code",
   "execution_count": 2,
   "metadata": {},
   "outputs": [],
   "source": [
    "import numpy as np"
   ]
  },
  {
   "cell_type": "markdown",
   "metadata": {},
   "source": [
    "# Método da Potência Inversa Comum"
   ]
  },
  {
   "cell_type": "code",
   "execution_count": 3,
   "metadata": {},
   "outputs": [],
   "source": [
    "def potencia_inversa(A,v0=np.array([]) ,tolerancia = 1e-10,max_iteracoes=10000):\n",
    "    if v0.size == 0:\n",
    "        v0 = np.ones(np.shape(A)[0])\n",
    "\n",
    "    autValN  = 0 #step 3\n",
    "    vkN = np.copy(v0) #step 4\n",
    "\n",
    "    for i in range(max_iteracoes):\n",
    "        autValV = np.copy(autValN) #step 5\n",
    "\n",
    "        vkV = np.copy(vkN) #step 6\n",
    "\n",
    "        x1V = np.divide(vkV,(np.sqrt(np.dot(vkV.T , vkV)))) #step 7\n",
    "\n",
    "        vkN = np.dot(np.linalg.inv(A),x1V) #step 8\n",
    "\n",
    "        autValN = np.matmul(x1V.T, vkN) #step 9\n",
    "\n",
    "        if abs(np.divide( np.subtract(autValN , autValV ),autValN)) < tolerancia: #step 9\n",
    "            break;\n",
    "\n",
    "    autValF = 1 / autValN #step 11\n",
    "    xn = np.copy(x1V)#step 12\n",
    "    return( autValF , xn)"
   ]
  },
  {
   "cell_type": "markdown",
   "metadata": {},
   "source": [
    "# BenchMarks"
   ]
  },
  {
   "cell_type": "code",
   "execution_count": 4,
   "metadata": {},
   "outputs": [],
   "source": [
    "A1 = np.array([\n",
    "    [5, 2, 1],\n",
    "    [2, 3, 1],\n",
    "    [1, 1, 2]\n",
    "],float)"
   ]
  },
  {
   "cell_type": "code",
   "execution_count": 5,
   "metadata": {},
   "outputs": [],
   "source": [
    "A2 = np.array([\n",
    "    [-14,  1,  -2],\n",
    "    [  1,  -1,   1],\n",
    "    [ -2,  1, -11]\n",
    "])"
   ]
  },
  {
   "cell_type": "code",
   "execution_count": 6,
   "metadata": {},
   "outputs": [],
   "source": [
    "A3 = np.array([\n",
    "    [40, 8,  4,  2, 1],\n",
    "    [8, 30, 12,  6, 2],\n",
    "    [4, 12, 20,  1, 2],\n",
    "    [2,  6,  1, 25, 4],\n",
    "    [1,  2,  2,  4, 5]\n",
    "])"
   ]
  },
  {
   "cell_type": "markdown",
   "metadata": {},
   "source": [
    "# Resultados do Método"
   ]
  },
  {
   "cell_type": "code",
   "execution_count": 7,
   "metadata": {},
   "outputs": [
    {
     "name": "stdout",
     "output_type": "stream",
     "text": [
      " autovalor => 1.3542486889983678\n",
      " autovetor => [ 0.13550299 -0.62953847  0.76506225]\n"
     ]
    }
   ],
   "source": [
    "lamb, x = potencia_inversa(A1)\n",
    "print(f' autovalor => {lamb}')\n",
    "print(f' autovetor => {x}')"
   ]
  },
  {
   "cell_type": "code",
   "execution_count": 8,
   "metadata": {},
   "outputs": [
    {
     "name": "stdout",
     "output_type": "stream",
     "text": [
      " autovalor => -0.8509230914609324\n",
      " autovetor => [0.06259585 0.99435785 0.08564004]\n"
     ]
    }
   ],
   "source": [
    "lamb, x = potencia_inversa(A2)\n",
    "print(f' autovalor => {lamb}')\n",
    "print(f' autovetor => {x}')"
   ]
  },
  {
   "cell_type": "code",
   "execution_count": 9,
   "metadata": {
    "scrolled": true
   },
   "outputs": [
    {
     "name": "stdout",
     "output_type": "stream",
     "text": [
      " autovalor => 4.014882942408441\n",
      " autovetor => [-0.00909562  0.03206584 -0.13178428 -0.18745222  0.9728225 ]\n"
     ]
    }
   ],
   "source": [
    "lamb, x = potencia_inversa(A3)\n",
    "print(f' autovalor => {lamb}')\n",
    "print(f' autovetor => {x}')"
   ]
  },
  {
   "cell_type": "markdown",
   "metadata": {},
   "source": [
    "# Método da Potência Inversa com Deslocamento"
   ]
  },
  {
   "cell_type": "code",
   "execution_count": 10,
   "metadata": {},
   "outputs": [],
   "source": [
    "def potencia_inversa_deslocamento(A,u=0,v0=np.array([]),tolerancia=1e-10):\n",
    "    I = np.eye(np.shape(A)[0]) #matriz identidade de A\n",
    "\n",
    "    if v0.size == 0: #iniciando o vetor de chutes com 1 em todas as posicoes\n",
    "        v0 = np.ones(np.shape(A)[0])\n",
    "    \n",
    "    Â =  (np.subtract(A,(u*I)))#step 1\n",
    "    \n",
    "    autValV,x = potencia_inversa(Â,v0,tolerancia) #step 2\n",
    "\n",
    "    autValN = autValV+u #step 3\n",
    "    xi = x #step 4\n",
    "    return autValN,xi\n"
   ]
  },
  {
   "cell_type": "markdown",
   "metadata": {},
   "source": [
    "# Resultados do Método"
   ]
  },
  {
   "cell_type": "code",
   "execution_count": 11,
   "metadata": {},
   "outputs": [
    {
     "name": "stdout",
     "output_type": "stream",
     "text": [
      " autovalor => 1.3542486889983678\n",
      " autovetor => [ 0.13550299 -0.62953847  0.76506225]\n"
     ]
    }
   ],
   "source": [
    "(lamb, x) = potencia_inversa_deslocamento(A1)\n",
    "print(f' autovalor => {lamb}')\n",
    "print(f' autovetor => {x}')"
   ]
  },
  {
   "cell_type": "code",
   "execution_count": 12,
   "metadata": {},
   "outputs": [
    {
     "name": "stdout",
     "output_type": "stream",
     "text": [
      " autovalor => -0.8509230914609324\n",
      " autovetor => [0.06259585 0.99435785 0.08564004]\n"
     ]
    }
   ],
   "source": [
    "lamb, x = potencia_inversa_deslocamento(A2)\n",
    "print(f' autovalor => {lamb}')\n",
    "print(f' autovetor => {x}')"
   ]
  },
  {
   "cell_type": "code",
   "execution_count": 13,
   "metadata": {},
   "outputs": [
    {
     "name": "stdout",
     "output_type": "stream",
     "text": [
      " autovalor => 4.014882942408441\n",
      " autovetor => [-0.00909562  0.03206584 -0.13178428 -0.18745222  0.9728225 ]\n"
     ]
    }
   ],
   "source": [
    "lamb, x = potencia_inversa_deslocamento(A3)\n",
    "print(f' autovalor => {lamb}')\n",
    "print(f' autovetor => {x}')"
   ]
  },
  {
   "cell_type": "markdown",
   "metadata": {},
   "source": [
    "# Todos os auto{valores,vetores}"
   ]
  },
  {
   "cell_type": "code",
   "execution_count": 14,
   "metadata": {},
   "outputs": [],
   "source": [
    "def todo_valores(matriz,erro=10**-2):\n",
    "    # return [ (autovalor,[autovetor]), ]\n",
    "    \n",
    "    valores = []\n",
    "    vetores = []\n",
    "    \n",
    "    n = len(matriz)\n",
    "    \n",
    "    max_lamb, x = potencia(matriz)\n",
    "    max_lamb = abs(int(max_lamb))\n",
    "    min_lamb, x = potencia_inversa(matriz)\n",
    "    min_lamb = abs(int(min_lamb))\n",
    "    step_size = max_lamb*2/100\n",
    "    \n",
    "    for i in range(100):\n",
    "        step = -max_lamb + (step_size * i)\n",
    "        lamb, x = potencia_inversa_deslocamento(matriz,u=step)\n",
    "        existe_proximo = False\n",
    "        \n",
    "        for j in valores:\n",
    "            if j-erro < lamb < j+erro:\n",
    "                existe_proximo = True\n",
    "        if not existe_proximo:\n",
    "            valores.append(lamb)\n",
    "            vetores.append(x)\n",
    "        if(len(valores) == n):\n",
    "            break\n",
    "    \n",
    "    return [(valores[i], vetores[i]) for i in range(n)]"
   ]
  },
  {
   "cell_type": "code",
   "execution_count": 15,
   "metadata": {},
   "outputs": [
    {
     "data": {
      "text/plain": [
       "[(1.3542486927803061, array([ 0.13546346, -0.62949893,  0.76510179])),\n",
       " (2.0000000008812253, array([-0.57734522,  0.5773268 ,  0.57737878])),\n",
       " (6.645751311988452, array([0.80516454, 0.51995015, 0.28524008]))]"
      ]
     },
     "execution_count": 15,
     "metadata": {},
     "output_type": "execute_result"
    }
   ],
   "source": [
    "todo_valores(A1, 10**-6)"
   ]
  },
  {
   "cell_type": "code",
   "execution_count": 16,
   "metadata": {},
   "outputs": [
    {
     "data": {
      "text/plain": [
       "[(-15.127761438716043, array([ 0.88667125, -0.09479565,  0.45257915])),\n",
       " (-10.021315469445456, array([-0.4581523 , -0.04760397,  0.88759807])),\n",
       " (-0.8509230773825243, array([0.06257779, 0.99435598, 0.08567497]))]"
      ]
     },
     "execution_count": 16,
     "metadata": {},
     "output_type": "execute_result"
    }
   ],
   "source": [
    "todo_valores(A2, 10**-6)"
   ]
  },
  {
   "cell_type": "code",
   "execution_count": 17,
   "metadata": {},
   "outputs": [
    {
     "data": {
      "text/plain": [
       "[(4.014882958687259,\n",
       "  array([-0.00909367,  0.0320379 , -0.13174773, -0.18744489,  0.9728298 ])),\n",
       " (11.642426409119444,\n",
       "  array([ 0.04132662, -0.59192191,  0.77449835,  0.15538165,  0.15469137])),\n",
       " (23.648079475384478,\n",
       "  array([ 0.10328736, -0.24727881, -0.39382372,  0.87053615,  0.12350951])),\n",
       " (31.31146526074319,\n",
       "  array([-0.70728418,  0.50119965,  0.32980391,  0.36252412,  0.09139833])),\n",
       " (49.38314594613726,\n",
       "  array([0.69806851, 0.57986697, 0.34486306, 0.22685789, 0.07784358]))]"
      ]
     },
     "execution_count": 17,
     "metadata": {},
     "output_type": "execute_result"
    }
   ],
   "source": [
    "todo_valores(A3, 10**-6)"
   ]
  },
  {
   "cell_type": "code",
   "execution_count": null,
   "metadata": {},
   "outputs": [],
   "source": []
  }
 ],
 "metadata": {
  "kernelspec": {
   "display_name": "Python 3",
   "language": "python",
   "name": "python3"
  },
  "language_info": {
   "codemirror_mode": {
    "name": "ipython",
    "version": 3
   },
   "file_extension": ".py",
   "mimetype": "text/x-python",
   "name": "python",
   "nbconvert_exporter": "python",
   "pygments_lexer": "ipython3",
   "version": "3.7.7"
  }
 },
 "nbformat": 4,
 "nbformat_minor": 4
}
