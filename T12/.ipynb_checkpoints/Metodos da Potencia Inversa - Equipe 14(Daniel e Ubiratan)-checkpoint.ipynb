{
 "cells": [
  {
   "cell_type": "code",
   "execution_count": 2,
   "metadata": {},
   "outputs": [],
   "source": [
    "import numpy as np"
   ]
  },
  {
   "cell_type": "markdown",
   "metadata": {},
   "source": [
    "# Método da Potência Inversa Comum"
   ]
  },
  {
   "cell_type": "code",
   "execution_count": 3,
   "metadata": {},
   "outputs": [],
   "source": [
    "def potencia_inversa(A,v0=np.array([]) ,tolerancia = 1e-10,max_iteracoes=10000):\n",
    "    if v0.size == 0:\n",
    "        v0 = np.ones(np.shape(A)[0])\n",
    "\n",
    "    autValN  = 0 #step 3\n",
    "    vkN = np.copy(v0) #step 4\n",
    "\n",
    "    for i in range(max_iteracoes):\n",
    "        autValV = np.copy(autValN) #step 5\n",
    "\n",
    "        vkV = np.copy(vkN) #step 6\n",
    "\n",
    "        x1V = np.divide(vkV,(np.sqrt(np.dot(vkV.T , vkV)))) #step 7\n",
    "\n",
    "        vkN = np.dot(np.linalg.inv(A),x1V) #step 8\n",
    "\n",
    "        autValN = np.matmul(x1V.T, vkN) #step 9\n",
    "\n",
    "        if abs(np.divide( np.subtract(autValN , autValV ),autValN)) < tolerancia: #step 9\n",
    "            break;\n",
    "\n",
    "    autValF = 1 / autValN #step 11\n",
    "    xn = np.copy(x1V)#step 12\n",
    "    return( autValF , xn)"
   ]
  },
  {
   "cell_type": "markdown",
   "metadata": {},
   "source": [
    "# BenchMarks"
   ]
  },
  {
   "cell_type": "code",
   "execution_count": 4,
   "metadata": {},
   "outputs": [],
   "source": [
    "A1 = np.array([\n",
    "    [5, 2, 1],\n",
    "    [2, 3, 1],\n",
    "    [1, 1, 2]\n",
    "],float)"
   ]
  },
  {
   "cell_type": "code",
   "execution_count": 5,
   "metadata": {},
   "outputs": [],
   "source": [
    "A2 = np.array([\n",
    "    [-14,  1,  -2],\n",
    "    [  1,  -1,   1],\n",
    "    [ -2,  1, -11]\n",
    "])"
   ]
  },
  {
   "cell_type": "code",
   "execution_count": 6,
   "metadata": {},
   "outputs": [],
   "source": [
    "A3 = np.array([\n",
    "    [40, 8,  4,  2, 1],\n",
    "    [8, 30, 12,  6, 2],\n",
    "    [4, 12, 20,  1, 2],\n",
    "    [2,  6,  1, 25, 4],\n",
    "    [1,  2,  2,  4, 5]\n",
    "])"
   ]
  },
  {
   "cell_type": "markdown",
   "metadata": {},
   "source": [
    "# Resultados do Método"
   ]
  },
  {
   "cell_type": "code",
   "execution_count": 7,
   "metadata": {},
   "outputs": [
    {
     "name": "stdout",
     "output_type": "stream",
     "text": [
      " autovalor => 1.3542486889983678\n",
      " autovetor => [ 0.13550299 -0.62953847  0.76506225]\n"
     ]
    }
   ],
   "source": [
    "lamb, x = potencia_inversa(A1)\n",
    "print(f' autovalor => {lamb}')\n",
    "print(f' autovetor => {x}')"
   ]
  },
  {
   "cell_type": "code",
   "execution_count": 8,
   "metadata": {},
   "outputs": [
    {
     "name": "stdout",
     "output_type": "stream",
     "text": [
      " autovalor => -0.8509230914609324\n",
      " autovetor => [0.06259585 0.99435785 0.08564004]\n"
     ]
    }
   ],
   "source": [
    "lamb, x = potencia_inversa(A2)\n",
    "print(f' autovalor => {lamb}')\n",
    "print(f' autovetor => {x}')"
   ]
  },
  {
   "cell_type": "code",
   "execution_count": 9,
   "metadata": {
    "scrolled": true
   },
   "outputs": [
    {
     "name": "stdout",
     "output_type": "stream",
     "text": [
      " autovalor => 4.014882942408441\n",
      " autovetor => [-0.00909562  0.03206584 -0.13178428 -0.18745222  0.9728225 ]\n"
     ]
    }
   ],
   "source": [
    "lamb, x = potencia_inversa(A3)\n",
    "print(f' autovalor => {lamb}')\n",
    "print(f' autovetor => {x}')"
   ]
  },
  {
   "cell_type": "markdown",
   "metadata": {},
   "source": [
    "# Método da Potência Inversa com Deslocamento"
   ]
  },
  {
   "cell_type": "code",
   "execution_count": 10,
   "metadata": {},
   "outputs": [],
   "source": [
    "def potencia_inversa_deslocamento(A,u=0,v0=np.array([]),tolerancia=1e-10):\n",
    "    I = np.eye(np.shape(A)[0]) #matriz identidade de A\n",
    "\n",
    "    if v0.size == 0: #iniciando o vetor de chutes com 1 em todas as posicoes\n",
    "        v0 = np.ones(np.shape(A)[0])\n",
    "    \n",
    "    Â =  (np.subtract(A,(u*I)))#step 1\n",
    "    \n",
    "    autValV,x = potencia_inversa(Â,v0,tolerancia) #step 2\n",
    "\n",
    "    autValN = autValV+u #step 3\n",
    "    xi = x #step 4\n",
    "    return autValN,xi\n"
   ]
  },
  {
   "cell_type": "markdown",
   "metadata": {},
   "source": [
    "# Resultados do Método"
   ]
  },
  {
   "cell_type": "code",
   "execution_count": 11,
   "metadata": {},
   "outputs": [
    {
     "name": "stdout",
     "output_type": "stream",
     "text": [
      " autovalor => 1.3542486889983678\n",
      " autovetor => [ 0.13550299 -0.62953847  0.76506225]\n"
     ]
    }
   ],
   "source": [
    "(lamb, x) = potencia_inversa_deslocamento(A1,0)\n",
    "print(f' autovalor => {lamb}')\n",
    "print(f' autovetor => {x}')"
   ]
  },
  {
   "cell_type": "code",
   "execution_count": 12,
   "metadata": {},
   "outputs": [
    {
     "name": "stdout",
     "output_type": "stream",
     "text": [
      " autovalor => -0.8509230914609324\n",
      " autovetor => [0.06259585 0.99435785 0.08564004]\n"
     ]
    }
   ],
   "source": [
    "lamb, x = potencia_inversa_deslocamento(A2)\n",
    "print(f' autovalor => {lamb}')\n",
    "print(f' autovetor => {x}')"
   ]
  },
  {
   "cell_type": "code",
   "execution_count": 14,
   "metadata": {},
   "outputs": [
    {
     "name": "stdout",
     "output_type": "stream",
     "text": [
      " autovalor => 4.014882942408441\n",
      " autovetor => [-0.00909562  0.03206584 -0.13178428 -0.18745222  0.9728225 ]\n",
      " autovalor => 4.014882942410248\n",
      " autovetor => [-0.0090956   0.03206561 -0.13178398 -0.18745216  0.97282256]\n",
      " autovalor => 4.014882942395902\n",
      " autovetor => [-0.00909569  0.03206681 -0.13178555 -0.18745248  0.97282225]\n",
      " autovalor => 4.014882942395382\n",
      " autovetor => [-0.0090957   0.03206702 -0.13178582 -0.18745253  0.97282219]\n",
      " autovalor => 4.014882942395329\n",
      " autovetor => [-0.00909571  0.03206716 -0.13178601 -0.18745257  0.97282216]\n"
     ]
    }
   ],
   "source": [
    "for i in range(5):\n",
    "    lamb, x = potencia_inversa_deslocamento(A3,i)\n",
    "    print(f' autovalor => {lamb}')\n",
    "    print(f' autovetor => {x}')"
   ]
  }
 ],
 "metadata": {
  "kernelspec": {
   "display_name": "Python 3",
   "language": "python",
   "name": "python3"
  },
  "language_info": {
   "codemirror_mode": {
    "name": "ipython",
    "version": 3
   },
   "file_extension": ".py",
   "mimetype": "text/x-python",
   "name": "python",
   "nbconvert_exporter": "python",
   "pygments_lexer": "ipython3",
   "version": "3.7.7"
  }
 },
 "nbformat": 4,
 "nbformat_minor": 4
}
