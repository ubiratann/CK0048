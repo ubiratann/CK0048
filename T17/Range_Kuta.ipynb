{
  "nbformat": 4,
  "nbformat_minor": 0,
  "metadata": {
    "kernelspec": {
      "display_name": "Python 3",
      "language": "python",
      "name": "python3"
    },
    "language_info": {
      "codemirror_mode": {
        "name": "ipython",
        "version": 3
      },
      "file_extension": ".py",
      "mimetype": "text/x-python",
      "name": "python",
      "nbconvert_exporter": "python",
      "pygments_lexer": "ipython3",
      "version": "3.8.5"
    },
    "colab": {
      "name": "Range Kuta (1).ipynb",
      "provenance": []
    }
  },
  "cells": [
    {
      "cell_type": "code",
      "metadata": {
        "id": "5t5XyJpP9cex"
      },
      "source": [
        "import numpy as np\n",
        "import math"
      ],
      "execution_count": 107,
      "outputs": []
    },
    {
      "cell_type": "code",
      "metadata": {
        "id": "QDMobeNz9cf4"
      },
      "source": [
        "lista_variacoes_delta_t = [ 0.1, 0.01, 0.001, 0.0001 ]\n",
        "t0 = 0\n",
        "v0 = 5\n",
        "y0 = 200\n",
        "k = 0.25\n",
        "m = 2\n",
        "g = 10"
      ],
      "execution_count": 108,
      "outputs": []
    },
    {
      "cell_type": "code",
      "metadata": {
        "id": "uMAwUFpv9clo"
      },
      "source": [
        "def F( v, y, dt ):\n",
        "    s = np.array([v, y])\n",
        "    up = -g - ( (k/m)*v  )\n",
        "    down = v\n",
        "    return np.array([up, down]) # si\n",
        "\n",
        "def F1( v, y, dt ):\n",
        "    return F( v, y, dt )\n",
        "    \n",
        "def F2( v, y, dt ):\n",
        "    s = np.array([v, y])\n",
        "    f1 = F1(v, y, dt)\n",
        "    si_1_2 = s + (dt * f1 )/2\n",
        "    return si_1_2\n",
        "    \n",
        "def F3( v, y, dt ):\n",
        "    s = np.array([v, y])\n",
        "    si1 = s + dt*( -F(v,y,dt) + 2*F2(v, y, dt) )\n",
        "    return si1"
      ],
      "execution_count": 109,
      "outputs": []
    },
    {
      "cell_type": "code",
      "metadata": {
        "id": "IzFT3C9L9cl4"
      },
      "source": [
        "def RK( v, y, dt ):\n",
        "    s = np.array([v, y])\n",
        "    f = F(v, y, dt)\n",
        "\n",
        "    s1_2 = F2( v, y, dt )\n",
        "    s1 = F3( v, y, dt )\n",
        "    \n",
        "    f1 = f\n",
        "    f2 = F(s1_2[0], s1_2[1], dt)\n",
        "    f3 = F(s1[0], s1[1], dt)\n",
        "    si1 = s + dt*( f1 + (4*f2) + f3 )/6\n",
        "    return si1"
      ],
      "execution_count": 110,
      "outputs": []
    },
    {
      "cell_type": "code",
      "metadata": {
        "id": "zwjDxEyk9cma"
      },
      "source": [
        "def PVI( v0 = 5, y0 = 200, k = 0.25, m = 2, g = 10, dt = 0.1 ):\n",
        "\n",
        "    maior_altura = y0\n",
        "    velocidade_maior_altura = v0\n",
        "    tempo_maior_altura = 0\n",
        "    tempo = 0\n",
        "    \n",
        "    while y0 >= 0.001:\n",
        "        \n",
        "        tempo += dt\n",
        "        v0, y0 = RK( v0, y0, dt )\n",
        "        \n",
        "        if y0 > maior_altura:\n",
        "            maior_altura = y0\n",
        "            velocidade_maior_altura = v0\n",
        "            tempo_maior_altura = tempo \n",
        "    print(\"%f %f %f \"%(maior_altura,\n",
        "            velocidade_maior_altura,\n",
        "            tempo_maior_altura))"
      ],
      "execution_count": 113,
      "outputs": []
    },
    {
      "cell_type": "code",
      "metadata": {
        "id": "C2pVPwce9cm8",
        "outputId": "a954e5cb-13d3-4084-e8a8-122d9c6e8642",
        "colab": {
          "base_uri": "https://localhost:8080/",
          "height": 85
        }
      },
      "source": [
        "for i in lista_variacoes_delta_t:\n",
        "    PVI( dt = i )"
      ],
      "execution_count": 114,
      "outputs": [
        {
          "output_type": "stream",
          "text": [
            "201.404841 -0.175605 0.500000 \n",
            "201.220290 -0.052536 0.490000 \n",
            "201.202243 -0.000280 0.485000 \n",
            "201.200442 -0.000055 0.485000 \n"
          ],
          "name": "stdout"
        }
      ]
    },
    {
      "cell_type": "code",
      "metadata": {
        "id": "aTtrNuFfp0Tj"
      },
      "source": [
        ""
      ],
      "execution_count": null,
      "outputs": []
    }
  ]
}