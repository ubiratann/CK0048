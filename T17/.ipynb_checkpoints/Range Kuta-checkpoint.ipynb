{
 "cells": [
  {
   "cell_type": "code",
   "execution_count": 9,
   "metadata": {},
   "outputs": [
    {
     "name": "stdout",
     "output_type": "stream",
     "text": [
      "Defaulting to user installation because normal site-packages is not writeable\n",
      "Requirement already satisfied: terminaltables in /home/ubiratan/.local/lib/python3.8/site-packages (3.1.0)\n",
      "\u001b[33mWARNING: You are using pip version 20.2.1; however, version 20.2.2 is available.\n",
      "You should consider upgrading via the '/usr/bin/python -m pip install --upgrade pip' command.\u001b[0m\n",
      "Defaulting to user installation because normal site-packages is not writeable\n",
      "Requirement already satisfied: colorclass in /home/ubiratan/.local/lib/python3.8/site-packages (2.2.0)\n",
      "\u001b[33mWARNING: You are using pip version 20.2.1; however, version 20.2.2 is available.\n",
      "You should consider upgrading via the '/usr/bin/python -m pip install --upgrade pip' command.\u001b[0m\n"
     ]
    }
   ],
   "source": [
    "from __future__ import print_function\n",
    "\n",
    "\n",
    "import numpy as np\n",
    "import math\n",
    "\n",
    "\n",
    "from colorclass import Color, Windows\n",
    "from terminaltables import SingleTable"
   ]
  },
  {
   "cell_type": "code",
   "execution_count": 10,
   "metadata": {},
   "outputs": [],
   "source": [
    "lista_variacoes_delta_t = [ 0.1, 0.01, 0.001, 0.0001 ]\n",
    "t0 = 0\n",
    "v0 = 5\n",
    "y0 = 200\n",
    "k = 0.25\n",
    "m = 2\n",
    "g = 10"
   ]
  },
  {
   "cell_type": "code",
   "execution_count": 11,
   "metadata": {},
   "outputs": [],
   "source": [
    "a21 = b2 = 0.5\n",
    "a32 = 2\n",
    "a31 = -1\n",
    "b3 = 1"
   ]
  },
  {
   "cell_type": "code",
   "execution_count": 12,
   "metadata": {},
   "outputs": [],
   "source": [
    "def rk3():\n",
    "    ..."
   ]
  },
  {
   "cell_type": "code",
   "execution_count": 13,
   "metadata": {},
   "outputs": [],
   "source": [
    "def rk_pvi2_sla( v, y, dt):\n",
    "    s = np.array([v, y])\n",
    "    up = -g - ( (k/m)*v  )\n",
    "    down = v\n",
    "    F = dt * np.array([up, down])\n",
    "    si = s + F\n",
    "    return si"
   ]
  },
  {
   "cell_type": "code",
   "execution_count": 27,
   "metadata": {},
   "outputs": [],
   "source": [
    "def PVI( v0 = 5, y0 = 200, k = 0.25, m = 2, g = 10, dt = 0.1 ):\n",
    "    # Explicito\n",
    "\n",
    "    maior_altura= y0\n",
    "    velocidade_maior_altura = v0\n",
    "    tempo_maior_altura = 0\n",
    "    tempo = 0\n",
    "    dt *= 0.5\n",
    "    \n",
    "    while True:\n",
    "        \n",
    "        tempo += dt\n",
    "        v0, y0 = rk_pvi2_sla( v0, y0, dt )\n",
    "        \n",
    "        if y0 > maior_altura:\n",
    "            maior_altura = y0\n",
    "            velocidade_maior_altura = v0\n",
    "            tempo_maior_altura = tempo \n",
    "            \n",
    "        if y0 <= 0.001 :\n",
    "            break\n",
    "            \n",
    "    table_data = [\n",
    "        [Color(''), Color('{autocyan}Altura Maxima{/autocyan}'), Color('{autocyan}Velo. Altura Maxima{/autocyan}'),Color('{autogreen}Tempo Altura Maxima{/autogreen}'),Color('{autored}Altura Queda{/autored}'),Color('{autored}Velocidade Queda{/autored}'),Color('{autogreen}Tempo Queda{/autogreen}')],\n",
    "        [Color('Explicito'), Color('{autocyan}%f{/autocyan}'%maior_altura), Color('{autocyan}%f{/autocyan}'%velocidade_maior_altura),Color('{autogreen}%f{/autogreen}'%tempo_maior_altura),Color('{autored}%f{/autored}'%y0),Color('{autored}%f{/autored}'%v0), Color('{autogreen}%f{/autogreen}'%tempo)],\n",
    "        ]\n",
    "    \n",
    "    table_instance = SingleTable(table_data, ' dt = {}'.format(dt))\n",
    "    table_instance.inner_heading_row_border = True\n",
    "    table_instance.inner_row_border = True\n",
    "    table_instance.justify_columns = {0: 'center', 1: 'center', 2: 'center'}\n",
    "    print(table_instance.table)\n",
    "    print()\n",
    "    "
   ]
  },
  {
   "cell_type": "code",
   "execution_count": 32,
   "metadata": {},
   "outputs": [],
   "source": [
    "def main():\n",
    "    \"\"\"Main function.\"\"\"\n",
    "    title = 'Jetta SportWagen'\n",
    "\n",
    "    # AsciiTable.\n",
    "    table_instance = AsciiTable(TABLE_DATA, title)\n",
    "    table_instance.justify_columns[2] = 'right'\n",
    "    print(table_instance.table)\n",
    "    print()\n",
    "\n",
    "    # SingleTable.\n",
    "    table_instance = SingleTable(TABLE_DATA, title)\n",
    "    table_instance.justify_columns[2] = 'right'\n",
    "    print(table_instance.table)\n",
    "    print()\n",
    "\n",
    "    # DoubleTable.\n",
    "    table_instance = DoubleTable(TABLE_DATA, title)\n",
    "    table_instance.justify_columns[2] = 'right'\n",
    "    print(table_instance.table)\n",
    "    print() "
   ]
  },
  {
   "cell_type": "code",
   "execution_count": 34,
   "metadata": {},
   "outputs": [
    {
     "ename": "NameError",
     "evalue": "name 'AsciiTable' is not defined",
     "output_type": "error",
     "traceback": [
      "\u001b[0;31m---------------------------------------------------------------------------\u001b[0m",
      "\u001b[0;31mNameError\u001b[0m                                 Traceback (most recent call last)",
      "\u001b[0;32m<ipython-input-34-263240bbee7e>\u001b[0m in \u001b[0;36m<module>\u001b[0;34m\u001b[0m\n\u001b[0;32m----> 1\u001b[0;31m \u001b[0mmain\u001b[0m\u001b[0;34m(\u001b[0m\u001b[0;34m)\u001b[0m\u001b[0;34m\u001b[0m\u001b[0;34m\u001b[0m\u001b[0m\n\u001b[0m",
      "\u001b[0;32m<ipython-input-32-003241c8fe2a>\u001b[0m in \u001b[0;36mmain\u001b[0;34m()\u001b[0m\n\u001b[1;32m      4\u001b[0m \u001b[0;34m\u001b[0m\u001b[0m\n\u001b[1;32m      5\u001b[0m     \u001b[0;31m# AsciiTable.\u001b[0m\u001b[0;34m\u001b[0m\u001b[0;34m\u001b[0m\u001b[0;34m\u001b[0m\u001b[0m\n\u001b[0;32m----> 6\u001b[0;31m     \u001b[0mtable_instance\u001b[0m \u001b[0;34m=\u001b[0m \u001b[0mAsciiTable\u001b[0m\u001b[0;34m(\u001b[0m\u001b[0mTABLE_DATA\u001b[0m\u001b[0;34m,\u001b[0m \u001b[0mtitle\u001b[0m\u001b[0;34m)\u001b[0m\u001b[0;34m\u001b[0m\u001b[0;34m\u001b[0m\u001b[0m\n\u001b[0m\u001b[1;32m      7\u001b[0m     \u001b[0mtable_instance\u001b[0m\u001b[0;34m.\u001b[0m\u001b[0mjustify_columns\u001b[0m\u001b[0;34m[\u001b[0m\u001b[0;36m2\u001b[0m\u001b[0;34m]\u001b[0m \u001b[0;34m=\u001b[0m \u001b[0;34m'right'\u001b[0m\u001b[0;34m\u001b[0m\u001b[0;34m\u001b[0m\u001b[0m\n\u001b[1;32m      8\u001b[0m     \u001b[0mprint\u001b[0m\u001b[0;34m(\u001b[0m\u001b[0mtable_instance\u001b[0m\u001b[0;34m.\u001b[0m\u001b[0mtable\u001b[0m\u001b[0;34m)\u001b[0m\u001b[0;34m\u001b[0m\u001b[0;34m\u001b[0m\u001b[0m\n",
      "\u001b[0;31mNameError\u001b[0m: name 'AsciiTable' is not defined"
     ]
    }
   ],
   "source": [
    "main()"
   ]
  },
  {
   "cell_type": "code",
   "execution_count": 28,
   "metadata": {},
   "outputs": [
    {
     "name": "stdout",
     "output_type": "stream",
     "text": [
      "\u001b(0l\u001b(B dt = 0.05\u001b(0qwqqqqqqqqqqqqqqqwqqqqqqqqqqqqqqqqqqqqqwqqqqqqqqqqqqqqqqqqqqqwqqqqqqqqqqqqqqwqqqqqqqqqqqqqqqqqqwqqqqqqqqqqqqqk\u001b(B\n",
      "\u001b(0x\u001b(B           \u001b(0x\u001b(B \u001b[96mAltura Maxima\u001b[39m \u001b(0x\u001b(B \u001b[96mVelo. Altura Maxima\u001b[39m \u001b(0x\u001b(B \u001b[92mTempo Altura Maxima\u001b[39m \u001b(0x\u001b(B \u001b[91mAltura Queda\u001b[39m \u001b(0x\u001b(B \u001b[91mVelocidade Queda\u001b[39m \u001b(0x\u001b(B \u001b[92mTempo Queda\u001b[39m \u001b(0x\u001b(B\n",
      "\u001b(0tqqqqqqqqqqqnqqqqqqqqqqqqqqqnqqqqqqqqqqqqqqqqqqqqqnqqqqqqqqqqqqqqqqqqqqqnqqqqqqqqqqqqqqnqqqqqqqqqqqqqqqqqqnqqqqqqqqqqqqqu\u001b(B\n",
      "\u001b(0x\u001b(B Explicito \u001b(0x\u001b(B   \u001b[96m201.324393\u001b[39m  \u001b(0x\u001b(B      \u001b[96m-0.165549\u001b[39m      \u001b(0x\u001b(B \u001b[92m0.500000\u001b[39m            \u001b(0x\u001b(B \u001b[91m-2.109063\u001b[39m    \u001b(0x\u001b(B \u001b[91m-48.236367\u001b[39m       \u001b(0x\u001b(B \u001b[92m7.850000\u001b[39m    \u001b(0x\u001b(B\n",
      "\u001b(0mqqqqqqqqqqqvqqqqqqqqqqqqqqqvqqqqqqqqqqqqqqqqqqqqqvqqqqqqqqqqqqqqqqqqqqqvqqqqqqqqqqqqqqvqqqqqqqqqqqqqqqqqqvqqqqqqqqqqqqqj\u001b(B\n",
      "\n",
      "\u001b(0l\u001b(B dt = 0.005\u001b(0wqqqqqqqqqqqqqqqwqqqqqqqqqqqqqqqqqqqqqwqqqqqqqqqqqqqqqqqqqqqwqqqqqqqqqqqqqqwqqqqqqqqqqqqqqqqqqwqqqqqqqqqqqqqk\u001b(B\n",
      "\u001b(0x\u001b(B           \u001b(0x\u001b(B \u001b[96mAltura Maxima\u001b[39m \u001b(0x\u001b(B \u001b[96mVelo. Altura Maxima\u001b[39m \u001b(0x\u001b(B \u001b[92mTempo Altura Maxima\u001b[39m \u001b(0x\u001b(B \u001b[91mAltura Queda\u001b[39m \u001b(0x\u001b(B \u001b[91mVelocidade Queda\u001b[39m \u001b(0x\u001b(B \u001b[92mTempo Queda\u001b[39m \u001b(0x\u001b(B\n",
      "\u001b(0tqqqqqqqqqqqnqqqqqqqqqqqqqqqnqqqqqqqqqqqqqqqqqqqqqnqqqqqqqqqqqqqqqqqqqqqnqqqqqqqqqqqqqqnqqqqqqqqqqqqqqqqqqnqqqqqqqqqqqqqu\u001b(B\n",
      "\u001b(0x\u001b(B Explicito \u001b(0x\u001b(B   \u001b[96m201.212372\u001b[39m  \u001b(0x\u001b(B      \u001b[96m-0.001546\u001b[39m      \u001b(0x\u001b(B \u001b[92m0.485000\u001b[39m            \u001b(0x\u001b(B \u001b[91m-0.172988\u001b[39m    \u001b(0x\u001b(B \u001b[91m-47.928376\u001b[39m       \u001b(0x\u001b(B \u001b[92m7.795000\u001b[39m    \u001b(0x\u001b(B\n",
      "\u001b(0mqqqqqqqqqqqvqqqqqqqqqqqqqqqvqqqqqqqqqqqqqqqqqqqqqvqqqqqqqqqqqqqqqqqqqqqvqqqqqqqqqqqqqqvqqqqqqqqqqqqqqqqqqvqqqqqqqqqqqqqj\u001b(B\n",
      "\n",
      "\u001b(0l\u001b(B dt = 0.0005\u001b(0qqqqqqqqqqqqqqqwqqqqqqqqqqqqqqqqqqqqqwqqqqqqqqqqqqqqqqqqqqqwqqqqqqqqqqqqqqwqqqqqqqqqqqqqqqqqqwqqqqqqqqqqqqqk\u001b(B\n",
      "\u001b(0x\u001b(B           \u001b(0x\u001b(B \u001b[96mAltura Maxima\u001b[39m \u001b(0x\u001b(B \u001b[96mVelo. Altura Maxima\u001b[39m \u001b(0x\u001b(B \u001b[92mTempo Altura Maxima\u001b[39m \u001b(0x\u001b(B \u001b[91mAltura Queda\u001b[39m \u001b(0x\u001b(B \u001b[91mVelocidade Queda\u001b[39m \u001b(0x\u001b(B \u001b[92mTempo Queda\u001b[39m \u001b(0x\u001b(B\n",
      "\u001b(0tqqqqqqqqqqqnqqqqqqqqqqqqqqqnqqqqqqqqqqqqqqqqqqqqqnqqqqqqqqqqqqqqqqqqqqqnqqqqqqqqqqqqqqnqqqqqqqqqqqqqqqqqqnqqqqqqqqqqqqqu\u001b(B\n",
      "\u001b(0x\u001b(B Explicito \u001b(0x\u001b(B   \u001b[96m201.201455\u001b[39m  \u001b(0x\u001b(B      \u001b[96m-0.000182\u001b[39m      \u001b(0x\u001b(B \u001b[92m0.485000\u001b[39m            \u001b(0x\u001b(B \u001b[91m-0.003799\u001b[39m    \u001b(0x\u001b(B \u001b[91m-47.899525\u001b[39m       \u001b(0x\u001b(B \u001b[92m7.790000\u001b[39m    \u001b(0x\u001b(B\n",
      "\u001b(0mqqqqqqqqqqqvqqqqqqqqqqqqqqqvqqqqqqqqqqqqqqqqqqqqqvqqqqqqqqqqqqqqqqqqqqqvqqqqqqqqqqqqqqvqqqqqqqqqqqqqqqqqqvqqqqqqqqqqqqqj\u001b(B\n",
      "\n",
      "\u001b(0l\u001b(B dt = 5e-05\u001b(0wqqqqqqqqqqqqqqqwqqqqqqqqqqqqqqqqqqqqqwqqqqqqqqqqqqqqqqqqqqqwqqqqqqqqqqqqqqwqqqqqqqqqqqqqqqqqqwqqqqqqqqqqqqqk\u001b(B\n",
      "\u001b(0x\u001b(B           \u001b(0x\u001b(B \u001b[96mAltura Maxima\u001b[39m \u001b(0x\u001b(B \u001b[96mVelo. Altura Maxima\u001b[39m \u001b(0x\u001b(B \u001b[92mTempo Altura Maxima\u001b[39m \u001b(0x\u001b(B \u001b[91mAltura Queda\u001b[39m \u001b(0x\u001b(B \u001b[91mVelocidade Queda\u001b[39m \u001b(0x\u001b(B \u001b[92mTempo Queda\u001b[39m \u001b(0x\u001b(B\n",
      "\u001b(0tqqqqqqqqqqqnqqqqqqqqqqqqqqqnqqqqqqqqqqqqqqqqqqqqqnqqqqqqqqqqqqqqqqqqqqqnqqqqqqqqqqqqqqnqqqqqqqqqqqqqqqqqqnqqqqqqqqqqqqqu\u001b(B\n",
      "\u001b(0x\u001b(B Explicito \u001b(0x\u001b(B   \u001b[96m201.200363\u001b[39m  \u001b(0x\u001b(B      \u001b[96m-0.000045\u001b[39m      \u001b(0x\u001b(B \u001b[92m0.485000\u001b[39m            \u001b(0x\u001b(B \u001b[91m-0.001253\u001b[39m    \u001b(0x\u001b(B \u001b[91m-47.897843\u001b[39m       \u001b(0x\u001b(B \u001b[92m7.789800\u001b[39m    \u001b(0x\u001b(B\n",
      "\u001b(0mqqqqqqqqqqqvqqqqqqqqqqqqqqqvqqqqqqqqqqqqqqqqqqqqqvqqqqqqqqqqqqqqqqqqqqqvqqqqqqqqqqqqqqvqqqqqqqqqqqqqqqqqqvqqqqqqqqqqqqqj\u001b(B\n",
      "\n"
     ]
    }
   ],
   "source": [
    "for i in lista_variacoes_delta_t:\n",
    "    PVI( dt = i )"
   ]
  }
 ],
 "metadata": {
  "kernelspec": {
   "display_name": "Python 3.8.3 64-bit",
   "language": "python",
   "name": "python38364bitc7d5276b71204dfa941e18682dec14a3"
  },
  "language_info": {
   "codemirror_mode": {
    "name": "ipython",
    "version": 3
   },
   "file_extension": ".py",
   "mimetype": "text/x-python",
   "name": "python",
   "nbconvert_exporter": "python",
   "pygments_lexer": "ipython3",
   "version": "3.8.5"
  }
 },
 "nbformat": 4,
 "nbformat_minor": 4
}
