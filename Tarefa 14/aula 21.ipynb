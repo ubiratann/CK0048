{
 "cells": [
  {
   "cell_type": "code",
   "execution_count": 43,
   "metadata": {},
   "outputs": [],
   "source": [
    "import math"
   ]
  },
  {
   "cell_type": "code",
   "execution_count": 44,
   "metadata": {},
   "outputs": [],
   "source": [
    "def print_matriz(matriz, erro=10**-9):\n",
    "    n = len(matriz)\n",
    "    for i in range(n):\n",
    "        for j in range(n):\n",
    "            numero = float(matriz[i][j])\n",
    "            if numero<=erro:\n",
    "                numero = float(0)\n",
    "            print(\"{:.3}\".format(numero), end=\" \")\n",
    "        print()\n",
    "\n",
    "def identidade(n):\n",
    "    identidade = [[0 for j in range(n)] for i in range(n)]\n",
    "    for i in range(n):\n",
    "        identidade[i][i] = 1\n",
    "    return identidade\n",
    "\n",
    "def multiplica(m1, m2):\n",
    "    n = len(m1)\n",
    "    if n != len(m2):\n",
    "        print(\"erro dimensão\")\n",
    "        return None\n",
    "    result = identidade(n)\n",
    "    for i in range(n):\n",
    "        for k in range(n):\n",
    "            somatorio = 0\n",
    "            for j in range(n):\n",
    "                somatorio += m1[i][j] * m2[j][k]\n",
    "            result[i][k] = somatorio\n",
    "    return result\n",
    "        \n",
    "                \n",
    "def Transposta(matriz):\n",
    "    n = len(matriz)\n",
    "    return [ [ matriz[i][j] for i in range(n)] for j in range(n)]\n",
    "\n",
    "A = [\n",
    "    [40, 8, 4, 2, 1],\n",
    "    [8, 30, 12, 6, 2],\n",
    "    [4, 12, 20, 1, 2],\n",
    "    [2, 6, 1, 25, 4],\n",
    "    [1, 2, 2, 4, 5]]\n",
    "teste = [\n",
    "    [1, 2, 3],\n",
    "    [4, 5, 6],\n",
    "    [7, 8, 9]]\n",
    "\n",
    "# resutl =  multiplica( teste, identidade(3) )\n",
    "# print_matriz(resutl)"
   ]
  },
  {
   "cell_type": "code",
   "execution_count": 45,
   "metadata": {},
   "outputs": [],
   "source": [
    "def somaDosQuadradosDosTermosAbaixoDaDiagonal(matriz):\n",
    "    somatorio = 0\n",
    "    n = len(matriz)\n",
    "    for i in range(n):\n",
    "        for j in range(n):\n",
    "            if i>j:\n",
    "                somatorio += math.pow(matriz[i][j],2)\n",
    "    return somatorio"
   ]
  },
  {
   "cell_type": "code",
   "execution_count": 46,
   "metadata": {},
   "outputs": [],
   "source": [
    "def matrizJacobiBaseadaNoElemento_ij_DaMatrizVelha(matriz,i,j):\n",
    "    pi = math.pi\n",
    "    n = len(matriz)\n",
    "    J = identidade(n)\n",
    "    erro = 10**(-9)\n",
    "    teta = 0\n",
    "    \n",
    "    if( abs(matriz[i][j]) <= erro ):\n",
    "        return J\n",
    "    elif( abs( matriz[i][i] - matriz[j][j] ) <= erro):\n",
    "        teta = pi/4\n",
    "    else:\n",
    "        teta = (1/2) * math.atan( (-2*matriz[i][j]) / (matriz[i][i] - matriz[j][j]) )\n",
    "    \n",
    "    J[i][i] = math.cos(teta)\n",
    "    J[j][j] = math.cos(teta)\n",
    "    J[i][j] = math.sin(teta)\n",
    "    J[j][i] = -1 * math.sin(teta)\n",
    "    \n",
    "    return J"
   ]
  },
  {
   "cell_type": "code",
   "execution_count": 47,
   "metadata": {},
   "outputs": [],
   "source": [
    "def varreduraDeJacobi(matriz):\n",
    "    n = len(matriz)\n",
    "    J = identidade(n)\n",
    "    \n",
    "    velho_a = matriz\n",
    "    for j in range(n-1):\n",
    "        for i in range(j+1, n):\n",
    "            j_matriz = matrizJacobiBaseadaNoElemento_ij_DaMatrizVelha(velho_a, i, j)\n",
    "            \n",
    "            j_t = Transposta(j_matriz)\n",
    "            novo_a = multiplica(j_t, velho_a)\n",
    "            novo_a = multiplica(novo_a, j_matriz)\n",
    "            \n",
    "            velho_a = novo_a\n",
    "            J = multiplica(J, j_matriz)\n",
    "    return (novo_a, J)"
   ]
  },
  {
   "cell_type": "code",
   "execution_count": 48,
   "metadata": {},
   "outputs": [],
   "source": [
    "def Algoritmo_Jacobi(matriz_a, erro_aceitavel = 10**-9):\n",
    "    n = len(matriz_a)\n",
    "    loss = 100\n",
    "    P = identidade(n)\n",
    "    \n",
    "    velho_a = matriz_a\n",
    "    while erro_aceitavel <= loss:\n",
    "        novo_a, j = varreduraDeJacobi(velho_a)\n",
    "        velho_a = novo_a\n",
    "        \n",
    "        P = multiplica(P,j)\n",
    "        loss = somaDosQuadradosDosTermosAbaixoDaDiagonal(novo_a)\n",
    "    print_matriz(novo_a)\n",
    "    print()\n",
    "    return (novo_a, P)"
   ]
  },
  {
   "cell_type": "code",
   "execution_count": 53,
   "metadata": {},
   "outputs": [
    {
     "name": "stdout",
     "output_type": "stream",
     "text": [
      "8.0 0.0 0.0 \n",
      "0.0 0.0 0.0 \n",
      "0.0 0.0 0.0 \n",
      "\n",
      "0.667 0.0 0.0 \n",
      "0.333 0.894 0.0 \n",
      "0.667 0.0 0.745 \n"
     ]
    }
   ],
   "source": [
    "teste = [\n",
    "    [3, 2, 4],\n",
    "    [2, 0, 2],\n",
    "    [4, 2, 3]]\n",
    "n = len(teste)\n",
    "autovalor, autovetor  = Algoritmo_Jacobi(teste)\n",
    "[ autovalor[i][i] for i in range(n)]\n",
    "print_matriz( autovetor )"
   ]
  },
  {
   "cell_type": "code",
   "execution_count": 54,
   "metadata": {},
   "outputs": [
    {
     "name": "stdout",
     "output_type": "stream",
     "text": [
      "5.0 0.0 \n",
      "3.71e-06 4.0 \n",
      "\n",
      "[5.000011127975171, 3.9999888720248307]\n",
      "0.707 0.0 \n",
      "0.707 0.707 \n"
     ]
    }
   ],
   "source": [
    "teste = [\n",
    "    [6, -1],\n",
    "    [2, 3]]\n",
    "n = len(teste)\n",
    "autovalor, autovetor  = Algoritmo_Jacobi(teste)\n",
    "print([ autovalor[i][i] for i in range(n)])\n",
    "print_matriz(autovetor)"
   ]
  },
  {
   "cell_type": "code",
   "execution_count": null,
   "metadata": {},
   "outputs": [],
   "source": []
  }
 ],
 "metadata": {
  "kernelspec": {
   "display_name": "Python 3",
   "language": "python",
   "name": "python3"
  },
  "language_info": {
   "codemirror_mode": {
    "name": "ipython",
    "version": 3
   },
   "file_extension": ".py",
   "mimetype": "text/x-python",
   "name": "python",
   "nbconvert_exporter": "python",
   "pygments_lexer": "ipython3",
   "version": "3.7.7"
  }
 },
 "nbformat": 4,
 "nbformat_minor": 4
}
