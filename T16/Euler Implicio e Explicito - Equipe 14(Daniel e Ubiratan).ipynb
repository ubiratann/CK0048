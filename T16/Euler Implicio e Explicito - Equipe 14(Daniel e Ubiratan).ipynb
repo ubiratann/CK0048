{
 "cells": [
  {
   "cell_type": "code",
   "execution_count": 1,
   "metadata": {},
   "outputs": [
    {
     "name": "stdout",
     "output_type": "stream",
     "text": [
      "Requirement already satisfied: terminaltables in c:\\users\\daniel\\miniconda3\\envs\\teste\\lib\\site-packages (3.1.0)\n",
      "Requirement already satisfied: colorclass in c:\\users\\daniel\\miniconda3\\envs\\teste\\lib\\site-packages (2.2.0)\n"
     ]
    }
   ],
   "source": [
    "from __future__ import print_function\n",
    "\n",
    "! pip install terminaltables\n",
    "! pip install colorclass\n",
    "\n",
    "import numpy as np\n",
    "import math\n",
    "\n",
    "\n",
    "from colorclass import Color, Windows\n",
    "from terminaltables import SingleTable"
   ]
  },
  {
   "cell_type": "code",
   "execution_count": 2,
   "metadata": {},
   "outputs": [],
   "source": [
    "lista_variacoes_delta_t = [ 0.1, 0.01, 0.001, 0.0001 ]\n",
    "t0 = 0\n",
    "v0 = 5\n",
    "y0 = 200\n",
    "k = 0.25\n",
    "m = 2\n",
    "g = 10"
   ]
  },
  {
   "cell_type": "code",
   "execution_count": 3,
   "metadata": {},
   "outputs": [],
   "source": [
    "def metodo_explicito( v0, y0, dt ):\n",
    "    s = np.array([v0, y0])\n",
    "    up = -g - ( (k/m)*v0  )\n",
    "    down = v0\n",
    "    F = dt * np.array([up, down])\n",
    "    si1 = s + F\n",
    "    return si1\n",
    "\n",
    "def metodo_implicito( v0, y0, dt ):\n",
    "    up = (m*(v0-g*dt)) / (m + k*dt)\n",
    "    down = y0 + ( ( m*dt*(v0-g*dt) ) / (m + k*dt) )\n",
    "    si1 = np.array([up, down])\n",
    "    return si1\n",
    "\n",
    "def valor_exato(t0,t,v0,k,m):\n",
    "    v = -g*(m/k) + (v0+((g*m)/k)) * math.e**(-(k/m)*(t-t0))\n",
    "    y = y0 -g*(m/k)*(t-t0) - (v0+g*m/k)*(m/k)*(math.e**(-(k/m)*(t-t0)) -1)\n",
    "    return v,y"
   ]
  },
  {
   "cell_type": "code",
   "execution_count": 4,
   "metadata": {},
   "outputs": [],
   "source": [
    "def PVI( v0 = 5, y0 = 200, k = 0.25, m = 2, g = 10, dt = 0.1 ):\n",
    "    \n",
    "    # Explicito\n",
    "    y_explicito = y0\n",
    "    v_explicito = v0\n",
    "    maior_altuta_explicito = y_explicito\n",
    "    velocidade_maior_altura_explicito = v_explicito\n",
    "    tempo_explicito = 0\n",
    "    \n",
    "    while True:\n",
    "        tempo_explicito += dt\n",
    "        v_explicito, y_explicito = metodo_explicito( v_explicito, y_explicito, dt )\n",
    "        \n",
    "        if y_explicito > maior_altuta_explicito:\n",
    "            maior_altuta_explicito = y_explicito\n",
    "            velocidade_maior_altura_explicito = v_explicito\n",
    "            \n",
    "        if y_explicito <= 0 :\n",
    "            break\n",
    "    \n",
    "    #Implicito\n",
    "    y_implicito = y0\n",
    "    v_implicito = v0\n",
    "    maior_altuta_implicito = y_implicito\n",
    "    velocidade_maior_altura_implicito = v_implicito\n",
    "    tempo_implicito = 0\n",
    "    \n",
    "    while True:\n",
    "        tempo_implicito += dt\n",
    "        v_implicito, y_implicito = metodo_implicito( v_implicito, y_implicito, dt )\n",
    "        \n",
    "        if y_implicito > maior_altuta_implicito:\n",
    "            maior_altuta_implicito = y_implicito\n",
    "            velocidade_maior_altura_implicito = v_implicito\n",
    "            \n",
    "        if y_implicito <= 0 :\n",
    "            break\n",
    "#             {autored} {autocyan}\n",
    "    table_data = [\n",
    "        [Color(''), Color('{autocyan}Altura Maxima{/autocyan}'), Color('{autocyan}Velocidade Maxima{/autocyan}'),Color('{autored}Altura Queda{/autored}'),Color('{autored}Velocidade Queda{/autored}')],\n",
    "        [Color('Explicito'), Color('{autocyan}%f{/autocyan}'%maior_altuta_explicito), Color('{autocyan}%f{/autocyan}'%velocidade_maior_altura_explicito),Color('{autored}%f{/autored}'%y_explicito),Color('{autored}%f{/autored}'%v_explicito)],\n",
    "        [Color('Implicito'), Color('{autocyan}%f{/autocyan}'%maior_altuta_implicito), Color('{autocyan}%f{/autocyan}'%velocidade_maior_altura_implicito),Color('{autored}%f{/autored}'%y_implicito),Color('{autored}%f{/autored}'%v_implicito)],\n",
    "        [Color('Valor Exato'), Color('{autocyan}%f{/autocyan}'%dt), Color('{autocyan}%f{/autocyan}'%dt),Color('{autored}%f{/autored}'%dt),Color('{autored}%f{/autored}'%dt)],\n",
    "    ]\n",
    "    table_instance = SingleTable(table_data, ' dt = {}'.format(dt))\n",
    "    table_instance.inner_heading_row_border = True\n",
    "    table_instance.inner_row_border = True\n",
    "    table_instance.justify_columns = {0: 'center', 1: 'center', 2: 'center'}\n",
    "    print( table_instance.table)\n",
    "    print()\n",
    "\n",
    "    \n",
    "#     v_exato, y_exato = valor_exato(t0,tempo,v0,k,m)\n",
    "#     print(\"{} =>  maior ({:10.4f})  velocidade_maior({:10.4f}) queda({:10.4f}) velocidade_queda({:10.4f})\\n\\tmaior2({:10.4f})  velocidade_maior2({:10.4f}) queda2({:10.4f}) velocidade_queda2({:10.4f})\\n tempo até a queda {}\".format(dt, maior,velocidade_maior,y0,v0,maior2,velocidade_maior2,y2,v2,tempo))\n",
    "#     print(\"Valor exato de queda t = {} => v = {:10.4f} y = {:10.4f} \".format(tempo,v_exato, y_exato))\n",
    "#     print()"
   ]
  },
  {
   "cell_type": "code",
   "execution_count": 5,
   "metadata": {},
   "outputs": [
    {
     "name": "stdout",
     "output_type": "stream",
     "text": [
      "┌ dt = 0.1────┬───────────────┬───────────────────┬──────────────┬──────────────────┐\n",
      "│             │ \u001b[96mAltura Maxima\u001b[39m │ \u001b[96mVelocidade Maxima\u001b[39m │ \u001b[91mAltura Queda\u001b[39m │ \u001b[91mVelocidade Queda\u001b[39m │\n",
      "├─────────────┼───────────────┼───────────────────┼──────────────┼──────────────────┤\n",
      "│  Explicito  │   \u001b[96m201.450698\u001b[39m  │     \u001b[96m-0.181337\u001b[39m     │ \u001b[91m-3.733000\u001b[39m    │ \u001b[91m-48.533375\u001b[39m       │\n",
      "├─────────────┼───────────────┼───────────────────┼──────────────┼──────────────────┤\n",
      "│  Implicito  │   \u001b[96m200.963493\u001b[39m  │      \u001b[96m0.879563\u001b[39m     │ \u001b[91m-2.045581\u001b[39m    │ \u001b[91m-47.744302\u001b[39m       │\n",
      "├─────────────┼───────────────┼───────────────────┼──────────────┼──────────────────┤\n",
      "│ Valor Exato │    \u001b[96m0.100000\u001b[39m   │      \u001b[96m0.100000\u001b[39m     │ \u001b[91m0.100000\u001b[39m     │ \u001b[91m0.100000\u001b[39m         │\n",
      "└─────────────┴───────────────┴───────────────────┴──────────────┴──────────────────┘\n",
      "\n",
      "┌ dt = 0.01───┬───────────────┬───────────────────┬──────────────┬──────────────────┐\n",
      "│             │ \u001b[96mAltura Maxima\u001b[39m │ \u001b[96mVelocidade Maxima\u001b[39m │ \u001b[91mAltura Queda\u001b[39m │ \u001b[91mVelocidade Queda\u001b[39m │\n",
      "├─────────────┼───────────────┼───────────────────┼──────────────┼──────────────────┤\n",
      "│  Explicito  │   \u001b[96m201.224622\u001b[39m  │     \u001b[96m-0.053078\u001b[39m     │ \u001b[91m-0.334419\u001b[39m    │ \u001b[91m-47.958198\u001b[39m       │\n",
      "├─────────────┼───────────────┼───────────────────┼──────────────┼──────────────────┤\n",
      "│  Implicito  │   \u001b[96m201.176122\u001b[39m  │      \u001b[96m0.052985\u001b[39m     │ \u001b[91m-0.167826\u001b[39m    │ \u001b[91m-47.879022\u001b[39m       │\n",
      "├─────────────┼───────────────┼───────────────────┼──────────────┼──────────────────┤\n",
      "│ Valor Exato │    \u001b[96m0.010000\u001b[39m   │      \u001b[96m0.010000\u001b[39m     │ \u001b[91m0.010000\u001b[39m     │ \u001b[91m0.010000\u001b[39m         │\n",
      "└─────────────┴───────────────┴───────────────────┴──────────────┴──────────────────┘\n",
      "\n",
      "┌ dt = 0.001──┬───────────────┬───────────────────┬──────────────┬──────────────────┐\n",
      "│             │ \u001b[96mAltura Maxima\u001b[39m │ \u001b[96mVelocidade Maxima\u001b[39m │ \u001b[91mAltura Queda\u001b[39m │ \u001b[91mVelocidade Queda\u001b[39m │\n",
      "├─────────────┼───────────────┼───────────────────┼──────────────┼──────────────────┤\n",
      "│  Explicito  │   \u001b[96m201.202667\u001b[39m  │     \u001b[96m-0.000333\u001b[39m     │ \u001b[91m-0.043885\u001b[39m    │ \u001b[91m-47.904514\u001b[39m       │\n",
      "├─────────────┼───────────────┼───────────────────┼──────────────┼──────────────────┤\n",
      "│  Implicito  │   \u001b[96m201.197817\u001b[39m  │      \u001b[96m0.000273\u001b[39m     │ \u001b[91m-0.027243\u001b[39m    │ \u001b[91m-47.896595\u001b[39m       │\n",
      "├─────────────┼───────────────┼───────────────────┼──────────────┼──────────────────┤\n",
      "│ Valor Exato │    \u001b[96m0.001000\u001b[39m   │      \u001b[96m0.001000\u001b[39m     │ \u001b[91m0.001000\u001b[39m     │ \u001b[91m0.001000\u001b[39m         │\n",
      "└─────────────┴───────────────┴───────────────────┴──────────────┴──────────────────┘\n",
      "\n",
      "┌ dt = 0.0001─┬───────────────┬───────────────────┬──────────────┬──────────────────┐\n",
      "│             │ \u001b[96mAltura Maxima\u001b[39m │ \u001b[96mVelocidade Maxima\u001b[39m │ \u001b[91mAltura Queda\u001b[39m │ \u001b[91mVelocidade Queda\u001b[39m │\n",
      "├─────────────┼───────────────┼───────────────────┼──────────────┼──────────────────┤\n",
      "│  Explicito  │   \u001b[96m201.200485\u001b[39m  │     \u001b[96m-0.000061\u001b[39m     │ \u001b[91m-0.000472\u001b[39m    │ \u001b[91m-47.897941\u001b[39m       │\n",
      "├─────────────┼───────────────┼───────────────────┼──────────────┼──────────────────┤\n",
      "│  Implicito  │   \u001b[96m201.200000\u001b[39m  │      \u001b[96m0.000000\u001b[39m     │ \u001b[91m-0.003598\u001b[39m    │ \u001b[91m-47.897550\u001b[39m       │\n",
      "├─────────────┼───────────────┼───────────────────┼──────────────┼──────────────────┤\n",
      "│ Valor Exato │    \u001b[96m0.000100\u001b[39m   │      \u001b[96m0.000100\u001b[39m     │ \u001b[91m0.000100\u001b[39m     │ \u001b[91m0.000100\u001b[39m         │\n",
      "└─────────────┴───────────────┴───────────────────┴──────────────┴──────────────────┘\n",
      "\n"
     ]
    }
   ],
   "source": [
    "for i in lista_variacoes_delta_t:\n",
    "    PVI( dt = i )"
   ]
  }
 ],
 "metadata": {
  "kernelspec": {
   "display_name": "Python 3",
   "language": "python",
   "name": "python3"
  },
  "language_info": {
   "codemirror_mode": {
    "name": "ipython",
    "version": 3
   },
   "file_extension": ".py",
   "mimetype": "text/x-python",
   "name": "python",
   "nbconvert_exporter": "python",
   "pygments_lexer": "ipython3",
   "version": "3.7.7"
  }
 },
 "nbformat": 4,
 "nbformat_minor": 4
}
