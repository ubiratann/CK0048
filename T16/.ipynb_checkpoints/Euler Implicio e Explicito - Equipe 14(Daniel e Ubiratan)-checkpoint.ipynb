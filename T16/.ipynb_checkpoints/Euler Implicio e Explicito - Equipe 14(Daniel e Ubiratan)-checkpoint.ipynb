{
 "cells": [
  {
   "cell_type": "code",
   "execution_count": null,
   "metadata": {},
   "outputs": [],
   "source": [
    "import numpy as np\n",
    "import math"
   ]
  },
  {
   "cell_type": "code",
   "execution_count": null,
   "metadata": {},
   "outputs": [],
   "source": [
    "lista_variacoes_delta_t = [ 0.1, 0.01, 0.001, 0.0001 ]\n",
    "t0 = 0\n",
    "v0 = 5\n",
    "y0 = 200\n",
    "k = 0.25\n",
    "m = 2\n",
    "g = 10"
   ]
  },
  {
   "cell_type": "code",
   "execution_count": null,
   "metadata": {},
   "outputs": [],
   "source": [
    "dt = lista_variacoes_delta_t[0]"
   ]
  },
  {
   "cell_type": "code",
   "execution_count": null,
   "metadata": {},
   "outputs": [],
   "source": [
    "def metodo_explicito( t, v0, y0, k, m, dt ):\n",
    "    s = np.array([v0, y0])\n",
    "    up = -g - ( (k/m)*v0  )\n",
    "    down = v0\n",
    "    F = dt * np.array([up, down])\n",
    "    si1 = s + F\n",
    "    return si1\n",
    "\n",
    "def metodo_implicito( t, v0, y0, k, m, dt ):\n",
    "    up = (m*(v0-g*dt)) / (m + k*dt)\n",
    "    down = y0 + ( ( m*dt*(v0-g*dt) ) / (m + k*dt) )\n",
    "    si1 = np.array([up, down])\n",
    "    return si1\n",
    "\n",
    "def valor_exato(t0,t,v0,k,m):\n",
    "    v = -g*(m/k) + (v0+((g*m)/k)) * math.e**(-(k/m)*(t-t0))\n",
    "    y = y0 -g*(m/k)*(t-t0) - (v0+g*m/k)*(m/k)*(math.e**(-(k/m)*(t-t0)) -1)\n",
    "    return v,y"
   ]
  },
  {
   "cell_type": "code",
   "execution_count": null,
   "metadata": {},
   "outputs": [],
   "source": [
    "def solucao( dt ):\n",
    "    t0 = 0\n",
    "    v0 = 5\n",
    "    y0 = 200\n",
    "    k = 0.25\n",
    "    m = 2\n",
    "    g = 10\n",
    "    \n",
    "    maior = y0\n",
    "    velocidade_maior = v0\n",
    "    v2 = v0\n",
    "    y2 = y0\n",
    "    maior2 = y0\n",
    "    velocidade_maior2 = v0\n",
    "\n",
    "    tempo = 0\n",
    "    while True:\n",
    "        tempo += dt\n",
    "        v0, y0 = metodo_explicito( t0, v0, y0, k, m, dt )\n",
    "        v2, y2 = metodo_implicito( t0, v2, y2, k, m, dt )\n",
    "        \n",
    "        if y0>maior:\n",
    "            maior = y0\n",
    "            velocidade_maior = v0\n",
    "        \n",
    "        if y2>maior2:\n",
    "            maior2 = y2\n",
    "            velocidade_maior2 = v2\n",
    "            \n",
    "        if y0 <= 10**-6 :\n",
    "            break\n",
    "\n",
    "    \n",
    "    v_exato, y_exato = valor_exato(t0,tempo,v0,k,m)\n",
    "    print(\"{} =>  maior ({:10.4f})  velocidade_maior({:10.4f}) queda({:10.4f}) velocidade_queda({:10.4f})\\n\\tmaior2({:10.4f})  velocidade_maior2({:10.4f}) queda2({:10.4f}) velocidade_queda2({:10.4f})\\n tempo até a queda {}\".format(dt, maior,velocidade_maior,y0,v0,maior2,velocidade_maior2,y2,v2,tempo))\n",
    "    print(\"Valor exato de queda t = {} => v = {:10.4f} y = {:10.4f} \".format(tempo,v_exato, y_exato))\n",
    "    print()"
   ]
  },
  {
   "cell_type": "code",
   "execution_count": null,
   "metadata": {},
   "outputs": [],
   "source": [
    "for i in lista_variacoes_delta_t:\n",
    "    solucao( i )"
   ]
  }
 ],
 "metadata": {
  "kernelspec": {
   "display_name": "Python 3",
   "language": "python",
   "name": "python3"
  },
  "language_info": {
   "codemirror_mode": {
    "name": "ipython",
    "version": 3
   },
   "file_extension": ".py",
   "mimetype": "text/x-python",
   "name": "python",
   "nbconvert_exporter": "python",
   "pygments_lexer": "ipython3",
   "version": "3.7.7"
  }
 },
 "nbformat": 4,
 "nbformat_minor": 4
}
