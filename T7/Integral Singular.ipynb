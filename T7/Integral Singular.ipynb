{
 "cells": [
  {
   "cell_type": "code",
   "execution_count": 1,
   "metadata": {},
   "outputs": [],
   "source": [
    "import math\n",
    "\n",
    "%run NewtonCottes.ipynb"
   ]
  },
  {
   "cell_type": "code",
   "execution_count": 2,
   "metadata": {},
   "outputs": [],
   "source": [
    "def derivada_simples():\n",
    "    \n",
    "    def xs(a, b):\n",
    "        return  lambda z: (a+b)/2 + (b-a)* math.tanh(z) /2\n",
    "    \n",
    "    def dxs(a, b):\n",
    "        return lambda z: (b-a) / ( 2 * math.cosh(z) * math.cosh(z) )\n",
    "    \n",
    "    return xs, dxs\n",
    "\n",
    "def derivada_composta():\n",
    "    def xs(a, b):\n",
    "        return  lambda z: (a+b)/2 + (b-a)* math.tanh( math.pi/2 * math.sinh(z) ) /2\n",
    "    \n",
    "    def dxs(a, b):\n",
    "        pi2 = (math.pi/2)\n",
    "        return lambda z: ((b-a)/2) * ( pi2 * (math.cosh(z)/( math.cosh( pi2*math.sinh(z) )**2 )) )\n",
    "    \n",
    "    return xs, dxs"
   ]
  },
  {
   "cell_type": "markdown",
   "metadata": {},
   "source": [
    "# Implementações"
   ]
  },
  {
   "cell_type": "code",
   "execution_count": 3,
   "metadata": {},
   "outputs": [],
   "source": [
    "def Resolver_Exemplo(limite, simples=True):\n",
    "    if simples:\n",
    "        xs, dxs = derivada_simples()\n",
    "    else:\n",
    "        xs, dxs = derivada_composta()\n",
    "        \n",
    "    \n",
    "    def f(s):\n",
    "        a = 0\n",
    "        b = 1\n",
    "        denominador = math.sqrt( xs(a, b)(s) )\n",
    "        denominador = 0.00000001 if denominador == 0 else denominador\n",
    "        return (1 / denominador ) * dxs(a, b)(s)\n",
    "    \n",
    "    a = limite*-1\n",
    "    b = limite\n",
    "    return boolin(f, 2, False, limite_Inf=a, limite_Sup=b)[1]"
   ]
  },
  {
   "cell_type": "code",
   "execution_count": 4,
   "metadata": {},
   "outputs": [],
   "source": [
    "def Mostrar_exemplo():\n",
    "    print(\"--- Simples ---\")\n",
    "    for i in range(2,5):\n",
    "        print(\"n={} valor={}\".format(i, Resolver_Exemplo(i, True) ) )\n",
    "\n",
    "    print()\n",
    "\n",
    "    print(\"--- Composto ---\")\n",
    "    for i in range(2,5):\n",
    "        print(\"n={} valor={}\".format(i, Resolver_Exemplo(i, False) ) )"
   ]
  },
  {
   "cell_type": "markdown",
   "metadata": {},
   "source": [
    "# Questão 1"
   ]
  },
  {
   "cell_type": "code",
   "execution_count": 5,
   "metadata": {},
   "outputs": [],
   "source": [
    "def Resolver_Questao_1(limite, simples=True):\n",
    "    \n",
    "    if simples:\n",
    "        xs, dxs = derivada_simples()\n",
    "    else:\n",
    "        xs, dxs = derivada_composta()\n",
    "        \n",
    "    def f(s):\n",
    "        a = -1\n",
    "        b = 1\n",
    "\n",
    "        denominador = math.pow( math.pow( xs(a, b)(s),2 ), (1/3) )\n",
    "        denominador = 0.00000000001 if denominador == 0 else denominador\n",
    "        return (1 / denominador ) * dxs(a, b)(s)\n",
    "\n",
    "    a = limite*-1\n",
    "    b = limite\n",
    "\n",
    "    return boolin(f, 2, False, limite_Inf=a, limite_Sup=b)[1]"
   ]
  },
  {
   "cell_type": "code",
   "execution_count": 6,
   "metadata": {},
   "outputs": [],
   "source": [
    "def Mostrar_Questao_1():\n",
    "    print(\"--- Simples ---\")\n",
    "    for i in range(2,5):\n",
    "        print(\"n={} valor={}\".format(i, Resolver_Questao_1(i, True) ) )\n",
    "\n",
    "    print()\n",
    "\n",
    "    print(\"--- Composto ---\")\n",
    "    for i in range(2,5):\n",
    "        print(\"n={} valor={}\".format(i, Resolver_Questao_1(i, False) ) )"
   ]
  },
  {
   "cell_type": "markdown",
   "metadata": {},
   "source": [
    "# Questao 2"
   ]
  },
  {
   "cell_type": "code",
   "execution_count": 7,
   "metadata": {},
   "outputs": [],
   "source": [
    "def Resolver_Questao_2(limite, simples=True):\n",
    "    \n",
    "    if simples:\n",
    "        xs, dxs = derivada_simples()\n",
    "    else:\n",
    "        xs, dxs = derivada_composta()\n",
    "        \n",
    "    def f(s):\n",
    "        a = -2\n",
    "        b = 0\n",
    "\n",
    "        denominador = math.sqrt( 4 - ( xs(a, b)(s)**2 ) )\n",
    "        denominador = 0.00000000001 if denominador == 0 else denominador\n",
    "        return (1 / denominador ) * dxs(a, b)(s)\n",
    "\n",
    "    a = limite*-1\n",
    "    b = limite\n",
    "\n",
    "    return boolin(f, 2, False, limite_Inf=a, limite_Sup=b)[1]"
   ]
  },
  {
   "cell_type": "code",
   "execution_count": 8,
   "metadata": {},
   "outputs": [],
   "source": [
    "def Mostrar_Questao_2():\n",
    "    print(\"--- Simples ---\")\n",
    "    for i in range(2,5):\n",
    "        print(\"n={} valor={}\".format(i, Resolver_Questao_2(i, True) ) )\n",
    "\n",
    "    print()\n",
    "\n",
    "    print(\"--- Composto ---\")\n",
    "    for i in range(2,5):\n",
    "        print(\"n={} valor={}\".format(i, Resolver_Questao_2(i, False) ) )"
   ]
  },
  {
   "cell_type": "markdown",
   "metadata": {},
   "source": [
    "# Resultados"
   ]
  },
  {
   "cell_type": "code",
   "execution_count": 9,
   "metadata": {},
   "outputs": [
    {
     "name": "stdout",
     "output_type": "stream",
     "text": [
      "--- Simples ---\n",
      "n=2 valor=1.713706849775441\n",
      "n=3 valor=1.8980749386772442\n",
      "n=4 valor=1.963039535738091\n",
      "\n",
      "--- Composto ---\n",
      "n=2 valor=1.9932771441165664\n",
      "n=3 valor=1.9999997107551888\n",
      "n=4 valor=1.9999999905329178\n"
     ]
    }
   ],
   "source": [
    "Mostrar_exemplo()"
   ]
  },
  {
   "cell_type": "code",
   "execution_count": 10,
   "metadata": {},
   "outputs": [
    {
     "name": "stdout",
     "output_type": "stream",
     "text": [
      "--- Simples ---\n",
      "n=2 valor=5.5988879067634345\n",
      "n=3 valor=5.61429846417018\n",
      "n=4 valor=5.585042732448295\n",
      "\n",
      "--- Composto ---\n",
      "n=2 valor=5.618338709946653\n",
      "n=3 valor=5.563158470515823\n",
      "n=4 valor=5.5191937147720145\n"
     ]
    }
   ],
   "source": [
    "Mostrar_Questao_1()"
   ]
  },
  {
   "cell_type": "code",
   "execution_count": 11,
   "metadata": {},
   "outputs": [
    {
     "name": "stdout",
     "output_type": "stream",
     "text": [
      "--- Simples ---\n",
      "n=2 valor=1.362859768697049\n",
      "n=3 valor=1.4979867961721727\n",
      "n=4 valor=1.5445624080879672\n",
      "\n",
      "--- Composto ---\n",
      "n=2 valor=1.5660392471577946\n",
      "n=3 valor=1.5707961220613382\n",
      "n=4 valor=1.5708148039591265\n"
     ]
    }
   ],
   "source": [
    "Mostrar_Questao_2()"
   ]
  }
 ],
 "metadata": {
  "kernelspec": {
   "display_name": "Python 3",
   "language": "python",
   "name": "python3"
  },
  "language_info": {
   "codemirror_mode": {
    "name": "ipython",
    "version": 3
   },
   "file_extension": ".py",
   "mimetype": "text/x-python",
   "name": "python",
   "nbconvert_exporter": "python",
   "pygments_lexer": "ipython3",
   "version": "3.7.7"
  }
 },
 "nbformat": 4,
 "nbformat_minor": 4
}
